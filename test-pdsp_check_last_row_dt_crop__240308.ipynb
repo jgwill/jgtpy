{
 "cells": [
  {
   "cell_type": "code",
   "execution_count": 3,
   "metadata": {},
   "outputs": [],
   "source": [
    "\n",
    "full_fn_not_with_dt_crop=\"samples/SPX500_H1_240229.pds.full.csv\""
   ]
  },
  {
   "cell_type": "code",
   "execution_count": 5,
   "metadata": {},
   "outputs": [],
   "source": [
    "import pandas as pd"
   ]
  },
  {
   "cell_type": "code",
   "execution_count": 6,
   "metadata": {},
   "outputs": [],
   "source": [
    "df=pd.read_csv(full_fn_not_with_dt_crop,index_col=0,parse_dates=True)"
   ]
  },
  {
   "cell_type": "code",
   "execution_count": 21,
   "metadata": {},
   "outputs": [
    {
     "data": {
      "text/html": [
       "<div>\n",
       "<style scoped>\n",
       "    .dataframe tbody tr th:only-of-type {\n",
       "        vertical-align: middle;\n",
       "    }\n",
       "\n",
       "    .dataframe tbody tr th {\n",
       "        vertical-align: top;\n",
       "    }\n",
       "\n",
       "    .dataframe thead th {\n",
       "        text-align: right;\n",
       "    }\n",
       "</style>\n",
       "<table border=\"1\" class=\"dataframe\">\n",
       "  <thead>\n",
       "    <tr style=\"text-align: right;\">\n",
       "      <th></th>\n",
       "      <th>Volume</th>\n",
       "      <th>Open</th>\n",
       "      <th>High</th>\n",
       "      <th>Low</th>\n",
       "      <th>Close</th>\n",
       "      <th>Median</th>\n",
       "    </tr>\n",
       "    <tr>\n",
       "      <th>Date</th>\n",
       "      <th></th>\n",
       "      <th></th>\n",
       "      <th></th>\n",
       "      <th></th>\n",
       "      <th></th>\n",
       "      <th></th>\n",
       "    </tr>\n",
       "  </thead>\n",
       "  <tbody>\n",
       "    <tr>\n",
       "      <th>2024-02-28 17:00:00</th>\n",
       "      <td>3783</td>\n",
       "      <td>5077.10</td>\n",
       "      <td>5078.11</td>\n",
       "      <td>5065.74</td>\n",
       "      <td>5070.11</td>\n",
       "      <td>5071.925</td>\n",
       "    </tr>\n",
       "    <tr>\n",
       "      <th>2024-02-28 18:00:00</th>\n",
       "      <td>3265</td>\n",
       "      <td>5070.11</td>\n",
       "      <td>5079.37</td>\n",
       "      <td>5066.35</td>\n",
       "      <td>5077.87</td>\n",
       "      <td>5072.860</td>\n",
       "    </tr>\n",
       "    <tr>\n",
       "      <th>2024-02-28 19:00:00</th>\n",
       "      <td>4646</td>\n",
       "      <td>5077.87</td>\n",
       "      <td>5078.37</td>\n",
       "      <td>5063.10</td>\n",
       "      <td>5069.86</td>\n",
       "      <td>5070.735</td>\n",
       "    </tr>\n",
       "    <tr>\n",
       "      <th>2024-02-28 20:00:00</th>\n",
       "      <td>4915</td>\n",
       "      <td>5069.86</td>\n",
       "      <td>5074.12</td>\n",
       "      <td>5065.10</td>\n",
       "      <td>5073.85</td>\n",
       "      <td>5069.610</td>\n",
       "    </tr>\n",
       "    <tr>\n",
       "      <th>2024-02-28 21:00:00</th>\n",
       "      <td>1391</td>\n",
       "      <td>5073.85</td>\n",
       "      <td>5074.12</td>\n",
       "      <td>5059.10</td>\n",
       "      <td>5061.87</td>\n",
       "      <td>5066.610</td>\n",
       "    </tr>\n",
       "    <tr>\n",
       "      <th>2024-02-28 23:00:00</th>\n",
       "      <td>1173</td>\n",
       "      <td>5061.87</td>\n",
       "      <td>5065.79</td>\n",
       "      <td>5061.87</td>\n",
       "      <td>5062.80</td>\n",
       "      <td>5063.830</td>\n",
       "    </tr>\n",
       "    <tr>\n",
       "      <th>2024-02-29 00:00:00</th>\n",
       "      <td>789</td>\n",
       "      <td>5062.80</td>\n",
       "      <td>5069.81</td>\n",
       "      <td>5062.55</td>\n",
       "      <td>5068.81</td>\n",
       "      <td>5066.180</td>\n",
       "    </tr>\n",
       "    <tr>\n",
       "      <th>2024-02-29 01:00:00</th>\n",
       "      <td>865</td>\n",
       "      <td>5068.81</td>\n",
       "      <td>5071.30</td>\n",
       "      <td>5067.56</td>\n",
       "      <td>5069.31</td>\n",
       "      <td>5069.430</td>\n",
       "    </tr>\n",
       "    <tr>\n",
       "      <th>2024-02-29 02:00:00</th>\n",
       "      <td>833</td>\n",
       "      <td>5069.31</td>\n",
       "      <td>5073.56</td>\n",
       "      <td>5069.30</td>\n",
       "      <td>5072.82</td>\n",
       "      <td>5071.430</td>\n",
       "    </tr>\n",
       "    <tr>\n",
       "      <th>2024-02-29 03:00:00</th>\n",
       "      <td>681</td>\n",
       "      <td>5072.82</td>\n",
       "      <td>5073.32</td>\n",
       "      <td>5070.30</td>\n",
       "      <td>5072.81</td>\n",
       "      <td>5071.810</td>\n",
       "    </tr>\n",
       "    <tr>\n",
       "      <th>2024-02-29 04:00:00</th>\n",
       "      <td>551</td>\n",
       "      <td>5072.81</td>\n",
       "      <td>5076.82</td>\n",
       "      <td>5072.81</td>\n",
       "      <td>5076.30</td>\n",
       "      <td>5074.815</td>\n",
       "    </tr>\n",
       "    <tr>\n",
       "      <th>2024-02-29 05:00:00</th>\n",
       "      <td>145</td>\n",
       "      <td>5076.30</td>\n",
       "      <td>5077.18</td>\n",
       "      <td>5075.30</td>\n",
       "      <td>5075.55</td>\n",
       "      <td>5076.240</td>\n",
       "    </tr>\n",
       "  </tbody>\n",
       "</table>\n",
       "</div>"
      ],
      "text/plain": [
       "                     Volume     Open     High      Low    Close    Median\n",
       "Date                                                                     \n",
       "2024-02-28 17:00:00    3783  5077.10  5078.11  5065.74  5070.11  5071.925\n",
       "2024-02-28 18:00:00    3265  5070.11  5079.37  5066.35  5077.87  5072.860\n",
       "2024-02-28 19:00:00    4646  5077.87  5078.37  5063.10  5069.86  5070.735\n",
       "2024-02-28 20:00:00    4915  5069.86  5074.12  5065.10  5073.85  5069.610\n",
       "2024-02-28 21:00:00    1391  5073.85  5074.12  5059.10  5061.87  5066.610\n",
       "2024-02-28 23:00:00    1173  5061.87  5065.79  5061.87  5062.80  5063.830\n",
       "2024-02-29 00:00:00     789  5062.80  5069.81  5062.55  5068.81  5066.180\n",
       "2024-02-29 01:00:00     865  5068.81  5071.30  5067.56  5069.31  5069.430\n",
       "2024-02-29 02:00:00     833  5069.31  5073.56  5069.30  5072.82  5071.430\n",
       "2024-02-29 03:00:00     681  5072.82  5073.32  5070.30  5072.81  5071.810\n",
       "2024-02-29 04:00:00     551  5072.81  5076.82  5072.81  5076.30  5074.815\n",
       "2024-02-29 05:00:00     145  5076.30  5077.18  5075.30  5075.55  5076.240"
      ]
     },
     "execution_count": 21,
     "metadata": {},
     "output_type": "execute_result"
    }
   ],
   "source": [
    "df.tail(12)"
   ]
  },
  {
   "cell_type": "code",
   "execution_count": 34,
   "metadata": {},
   "outputs": [
    {
     "data": {
      "text/plain": [
       "Timestamp('2024-02-29 05:00:00')"
      ]
     },
     "execution_count": 34,
     "metadata": {},
     "output_type": "execute_result"
    }
   ],
   "source": [
    "\n",
    "# A Row we have\n",
    "\n",
    "crop_last_dt = \"2024-02-28 17:00:00\"\n",
    "\n",
    "last_row_dt = df.index[-1]\n",
    "last_row_dt"
   ]
  },
  {
   "cell_type": "code",
   "execution_count": 38,
   "metadata": {},
   "outputs": [],
   "source": [
    "def test_if_having_crop_last_dt(df,crop_last_dt):\n",
    "    tst=df.tail(1).copy()\n",
    "#we_have_our_dt_crop = last_row_dt > crop_last_dt\n",
    "    tst = tst[tst.index >= crop_last_dt]\n",
    "    return len(tst)>0 # Expecting 1 if we have the date\n"
   ]
  },
  {
   "cell_type": "code",
   "execution_count": 39,
   "metadata": {},
   "outputs": [
    {
     "data": {
      "text/plain": [
       "True"
      ]
     },
     "execution_count": 39,
     "metadata": {},
     "output_type": "execute_result"
    }
   ],
   "source": [
    "\n",
    "test_if_having_crop_last_dt(df,crop_last_dt)"
   ]
  },
  {
   "cell_type": "code",
   "execution_count": 40,
   "metadata": {},
   "outputs": [
    {
     "data": {
      "text/plain": [
       "Timestamp('2024-02-29 05:00:00')"
      ]
     },
     "execution_count": 40,
     "metadata": {},
     "output_type": "execute_result"
    }
   ],
   "source": [
    "\n",
    "\n",
    "crop_last_dt = \"2024-03-05 12:00\"\n",
    "\n",
    "last_row_dt = df.index[-1]\n",
    "last_row_dt"
   ]
  },
  {
   "cell_type": "code",
   "execution_count": 41,
   "metadata": {},
   "outputs": [
    {
     "data": {
      "text/plain": [
       "False"
      ]
     },
     "execution_count": 41,
     "metadata": {},
     "output_type": "execute_result"
    }
   ],
   "source": [
    "\n",
    "test_if_having_crop_last_dt(df,crop_last_dt)"
   ]
  },
  {
   "cell_type": "code",
   "execution_count": 29,
   "metadata": {},
   "outputs": [
    {
     "data": {
      "text/plain": [
       "0"
      ]
     },
     "execution_count": 29,
     "metadata": {},
     "output_type": "execute_result"
    }
   ],
   "source": [
    "tst=df.tail(1).copy()\n",
    "#we_have_our_dt_crop = last_row_dt > crop_last_dt\n",
    "tst = tst[tst.index >= crop_last_dt]\n",
    "len(tst) #Expect 0"
   ]
  },
  {
   "cell_type": "code",
   "execution_count": 20,
   "metadata": {},
   "outputs": [
    {
     "data": {
      "text/plain": [
       "0"
      ]
     },
     "execution_count": 20,
     "metadata": {},
     "output_type": "execute_result"
    }
   ],
   "source": []
  },
  {
   "cell_type": "code",
   "execution_count": 18,
   "metadata": {},
   "outputs": [
    {
     "data": {
      "text/html": [
       "<div>\n",
       "<style scoped>\n",
       "    .dataframe tbody tr th:only-of-type {\n",
       "        vertical-align: middle;\n",
       "    }\n",
       "\n",
       "    .dataframe tbody tr th {\n",
       "        vertical-align: top;\n",
       "    }\n",
       "\n",
       "    .dataframe thead th {\n",
       "        text-align: right;\n",
       "    }\n",
       "</style>\n",
       "<table border=\"1\" class=\"dataframe\">\n",
       "  <thead>\n",
       "    <tr style=\"text-align: right;\">\n",
       "      <th></th>\n",
       "      <th>Volume</th>\n",
       "      <th>Open</th>\n",
       "      <th>High</th>\n",
       "      <th>Low</th>\n",
       "      <th>Close</th>\n",
       "      <th>Median</th>\n",
       "    </tr>\n",
       "    <tr>\n",
       "      <th>Date</th>\n",
       "      <th></th>\n",
       "      <th></th>\n",
       "      <th></th>\n",
       "      <th></th>\n",
       "      <th></th>\n",
       "      <th></th>\n",
       "    </tr>\n",
       "  </thead>\n",
       "  <tbody>\n",
       "    <tr>\n",
       "      <th>2024-02-29 05:00:00</th>\n",
       "      <td>145</td>\n",
       "      <td>5076.3</td>\n",
       "      <td>5077.18</td>\n",
       "      <td>5075.3</td>\n",
       "      <td>5075.55</td>\n",
       "      <td>5076.24</td>\n",
       "    </tr>\n",
       "  </tbody>\n",
       "</table>\n",
       "</div>"
      ],
      "text/plain": [
       "                     Volume    Open     High     Low    Close   Median\n",
       "Date                                                                  \n",
       "2024-02-29 05:00:00     145  5076.3  5077.18  5075.3  5075.55  5076.24"
      ]
     },
     "execution_count": 18,
     "metadata": {},
     "output_type": "execute_result"
    }
   ],
   "source": [
    "tst"
   ]
  },
  {
   "cell_type": "code",
   "execution_count": null,
   "metadata": {},
   "outputs": [],
   "source": []
  }
 ],
 "metadata": {
  "kernelspec": {
   "display_name": "jgtpy310",
   "language": "python",
   "name": "python3"
  },
  "language_info": {
   "codemirror_mode": {
    "name": "ipython",
    "version": 3
   },
   "file_extension": ".py",
   "mimetype": "text/x-python",
   "name": "python",
   "nbconvert_exporter": "python",
   "pygments_lexer": "ipython3",
   "version": "3.10.13"
  }
 },
 "nbformat": 4,
 "nbformat_minor": 2
}

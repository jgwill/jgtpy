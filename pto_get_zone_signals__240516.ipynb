{
 "cells": [
  {
   "cell_type": "code",
   "execution_count": 1,
   "metadata": {},
   "outputs": [],
   "source": [
    "import os\n",
    "\n",
    "from jgtpy import jgtapyhelper as th\n",
    "from jgtpy import JGTCDS as cds\n",
    "from jgtpy import JGTCDSSvc as svc\n",
    "\n",
    "\n"
   ]
  },
  {
   "cell_type": "markdown",
   "metadata": {},
   "source": [
    "\n",
    "### --@STCGoal What is the Zone of the Higher TF ??\n",
    "\n"
   ]
  },
  {
   "cell_type": "code",
   "execution_count": 2,
   "metadata": {},
   "outputs": [],
   "source": [
    "i=\"SPX500\"\n",
    "t=\"H4\";htf_expected=\"D1\";htf2_expected=\"W1\";htf3_expected=\"M1\"\n"
   ]
  },
  {
   "cell_type": "code",
   "execution_count": 3,
   "metadata": {},
   "outputs": [],
   "source": [
    "\n",
    "from jgtutils.jgtpov import get_higher_tf,get_higher_tf_by_level\n",
    "\n",
    "\n",
    "\n",
    "# #@STCGoal Upgraded jgtutils.jgtpov import get_higher_tf\n",
    "# def _get_higher_tf(timeframe,default_timeframes=\"M1,W1,D1,H8,H4,H1,m15,m5\"):\n",
    "#   #return None if timeframe is M1\n",
    "#   if timeframe == \"M1\":\n",
    "#     return None    \n",
    "#   # Default timeframes\n",
    "#   timeframes = default_timeframes.split(',')\n",
    "  \n",
    "#   # Override non default \n",
    "#   if timeframe == \"H6\" and \"H6\" not in timeframes:\n",
    "#     return \"D1\"\n",
    "#   if timeframe == \"H3\" and \"H3\" not in timeframes:\n",
    "#     return \"H8\"\n",
    "#   if timeframe == \"H2\" and \"H2\" not in timeframes:\n",
    "#     return \"H4\"\n",
    "#   if timeframe == \"m30\" and \"m30\" not in timeframes:\n",
    "#     return \"H1\"\n",
    "  \n",
    "#   # Get the index of the supplied timeframe\n",
    "#   try:\n",
    "#     tf_index = timeframes.index(timeframe)\n",
    "#   except ValueError:\n",
    "#     return None\n",
    "  \n",
    "#   # Get the higher timeframe\n",
    "#   higher_tf = timeframes[tf_index - 1] if tf_index > 0 else None\n",
    "  \n",
    "#   return higher_tf\n",
    "\n",
    "\n",
    "\n",
    "# def get_higher_tf_by_level(timeframe, level=0,default_timeframes = \"M1,W1,D1,H4,H1,m15,m5\"):\n",
    "#   \"\"\"\n",
    "#   Recursively calculates the higher time frame based on the given timeframe and level.\n",
    "\n",
    "#   Parameters:\n",
    "#   timeframe (str): The current timeframe.\n",
    "#   level (int): The number of levels to go higher in timeframes. Default is 0.\n",
    "#   timeframes (str): The list of timeframes to consider. Default is \"M1,W1,D1,H4,H1,m15,m5\".\n",
    "\n",
    "#   Returns:\n",
    "#   str: The higher timeframe based on the given time frame and level. Expect None if there is no level.\n",
    "#   \"\"\"\n",
    "#   htf = _get_higher_tf(timeframe,default_timeframes)\n",
    "#   if level > 0:\n",
    "#     htf = get_higher_tf_by_level(htf, level - 1,default_timeframes)\n",
    "#   return htf\n",
    "\n",
    "# # def get_higher_tf2(_tf,_level=0):\n",
    "# #   htf=get_higher_tf(_tf)\n",
    "# #   if _level>0:\n",
    "# #     htf=get_higher_tf2(htf,_level-1)\n",
    "# #   return htf\n"
   ]
  },
  {
   "cell_type": "markdown",
   "metadata": {},
   "source": []
  },
  {
   "cell_type": "code",
   "execution_count": 4,
   "metadata": {},
   "outputs": [],
   "source": [
    "\n",
    "# Explore the CDS Signals and their validity\n",
    "\n"
   ]
  },
  {
   "cell_type": "markdown",
   "metadata": {},
   "source": []
  },
  {
   "cell_type": "markdown",
   "metadata": {},
   "source": [
    "\n"
   ]
  },
  {
   "cell_type": "code",
   "execution_count": 5,
   "metadata": {},
   "outputs": [],
   "source": [
    "\n",
    "pto_done=True\n",
    "\n"
   ]
  },
  {
   "cell_type": "code",
   "execution_count": 6,
   "metadata": {},
   "outputs": [],
   "source": [
    "if not pto_done:\n",
    "    \n",
    "  # Test getting 2 levels higher time frame\n",
    "  htf1=get_higher_tf_by_level(t,1)\n",
    "  print(htf1,\" expected:\",htf_expected)\n",
    "\n",
    "  htf2=get_higher_tf_by_level(t,2)\n",
    "  print(htf2,\" expected:\",htf2_expected)\n",
    "\n",
    "  htf3=get_higher_tf_by_level(t,3)\n",
    "  print(htf3,\" expected:\",htf3_expected)\n",
    "\n",
    "\n",
    "  htf4=get_higher_tf_by_level(t,4)\n",
    "  print(htf4,\" expected: None\")"
   ]
  },
  {
   "cell_type": "code",
   "execution_count": 7,
   "metadata": {},
   "outputs": [],
   "source": [
    "\n",
    "def pto_get_higher_cdf(i,t,_level=1,default_timeframes = \"M1,W1,D1,H4,H1,m15,m5\"):  \n",
    "  if _level==0:\n",
    "    return svc.get(i,t),t # Current\n",
    "  else:\n",
    "    htf=get_higher_tf_by_level(t,_level,default_timeframes)\n",
    "    print(\"Higher TF: \",htf,\" of : \",t)\n",
    "\n",
    "    hdf=svc.get(i,htf)\n",
    "    \n",
    "    return hdf,htf\n",
    "\n",
    "def get_zone_from_cdf(_cdf):\n",
    "  return _cdf[\"zcol\"].tail(1).values[0]\n",
    "\n",
    "if not pto_done:\n",
    "  cdf,ctf=pto_get_higher_cdf(i,t,-1)\n",
    "  hdf1,htf1=pto_get_higher_cdf(i,t,0)\n",
    "  hdf2,htf2=pto_get_higher_cdf(i,t,1)\n",
    "  hdf3,htf3=pto_get_higher_cdf(i,t,2)\n",
    "\n",
    "  z=get_zone_from_cdf(cdf) #current\n",
    "  z1=get_zone_from_cdf(hdf1) #D1\n",
    "  z2=get_zone_from_cdf(hdf2) #W1\n",
    "  z3=get_zone_from_cdf(hdf3) #M1\n"
   ]
  },
  {
   "cell_type": "code",
   "execution_count": 8,
   "metadata": {},
   "outputs": [],
   "source": [
    "\n",
    "def print_zone(_cdf,_tf):\n",
    "  _z=get_zone_from_cdf(_cdf)\n",
    "  print(\"Zone \",_tf,\" :\",_z)\n",
    "\n",
    "if not pto_done:\n",
    "    \n",
    "  print_zone(cdf,t)\n",
    "  print_zone(hdf1,htf1)\n",
    "  print_zone(hdf2,htf2)\n",
    "  print_zone(hdf3,htf3)\n",
    "# print(\"Zone C: \",z)\n",
    "# print(\"Zone 1: \",z1)\n",
    "# print(\"Zone 2: \",z2)\n",
    "# print(\"Zone 3: \",z3)"
   ]
  },
  {
   "cell_type": "markdown",
   "metadata": {},
   "source": [
    "\n",
    "### Use  JGTCDSSvc.zone_update\n",
    "\n"
   ]
  },
  {
   "cell_type": "code",
   "execution_count": 1,
   "metadata": {},
   "outputs": [],
   "source": [
    "from jgtpy import JGTCDSSvc as svc\n",
    "\n",
    "i=\"SPX500\";t=\"m15\"\n",
    "i=\"EUR/USD\""
   ]
  },
  {
   "cell_type": "code",
   "execution_count": 2,
   "metadata": {},
   "outputs": [],
   "source": [
    "\n",
    "\n",
    "res=svc.zone_update(i,t)\n",
    "\n"
   ]
  },
  {
   "cell_type": "code",
   "execution_count": 3,
   "metadata": {},
   "outputs": [
    {
     "name": "stdout",
     "output_type": "stream",
     "text": [
      "('/src/_jgt/data/zone/EUR-USD_m15.csv',                      zcol  zint\n",
      "Date                           \n",
      "2024-05-16 22:00:00  gray     0)\n"
     ]
    }
   ],
   "source": [
    "print(res)"
   ]
  },
  {
   "cell_type": "code",
   "execution_count": 12,
   "metadata": {},
   "outputs": [
    {
     "name": "stdout",
     "output_type": "stream",
     "text": [
      "('/src/_jgt/data/zone/SPX500_H4.csv',                     zcol  zint\n",
      "Date                          \n",
      "2024-05-16 21:00:00  red    -1)\n"
     ]
    }
   ],
   "source": [
    "\n",
    "\n",
    "\n",
    "json_res=svc.zone_update(i,t,to_json=False)\n",
    "print(json_res)\n",
    "\n"
   ]
  },
  {
   "cell_type": "code",
   "execution_count": 13,
   "metadata": {},
   "outputs": [],
   "source": [
    "\n",
    "from jgtpy import JGTCDSSvc as svc\n",
    "\n",
    "i=\"SPX500\";t=\"H4\"\n",
    "\n",
    "#zone_update_higher\n",
    "res=svc.zone_update_higher(i,t,4,quiet=True,to_json=False)\n"
   ]
  },
  {
   "cell_type": "code",
   "execution_count": 14,
   "metadata": {},
   "outputs": [
    {
     "name": "stdout",
     "output_type": "stream",
     "text": [
      "H4\n",
      "D1\n",
      "W1\n",
      "M1\n",
      "{'H4': {'data':                     zcol  zint\n",
      "Date                          \n",
      "2024-05-16 21:00:00  red    -1, 'path': '/src/_jgt/data/zone/SPX500_H4.csv'}, 'D1': {'data':                      zcol  zint\n",
      "Date                           \n",
      "2024-05-16 21:00:00  gray     0, 'path': '/src/_jgt/data/zone/SPX500_D1.csv'}, 'W1': {'data':                      zcol  zint\n",
      "Date                           \n",
      "2024-05-11 21:00:00  gray     0, 'path': '/src/_jgt/data/zone/SPX500_W1.csv'}, 'M1': {'data':                      zcol  zint\n",
      "Date                           \n",
      "2024-04-30 21:00:00  gray     0, 'path': '/src/_jgt/data/zone/SPX500_M1.csv'}}\n"
     ]
    }
   ],
   "source": [
    "\n",
    "for p in res:\n",
    "  print(p)\n",
    "\n",
    "print(res)"
   ]
  },
  {
   "cell_type": "code",
   "execution_count": 15,
   "metadata": {},
   "outputs": [
    {
     "name": "stdout",
     "output_type": "stream",
     "text": [
      "                  Date zcol   t\n",
      "0  2024-05-16 21:00:00  red  H4\n"
     ]
    }
   ],
   "source": [
    "\n",
    "\n",
    "from jgtpy import JGTCDSSvc as svc\n",
    "\n",
    "i=\"SPX500\";t=\"H4\"\n",
    "i=\"EUR/USD\";t=\"H4\"\n",
    "zdata=svc.zone_read(i,t)\n",
    "print(zdata)"
   ]
  },
  {
   "cell_type": "code",
   "execution_count": 16,
   "metadata": {},
   "outputs": [
    {
     "name": "stdout",
     "output_type": "stream",
     "text": [
      "{'Date': '2024-05-16 21:00:00', 'zcol': 'red', 't': 'H4'}\n"
     ]
    }
   ],
   "source": [
    "\n",
    "\n",
    "zdata_json=svc.read_zone_to_json(i,t)\n",
    "print(zdata_json)"
   ]
  },
  {
   "cell_type": "code",
   "execution_count": 17,
   "metadata": {},
   "outputs": [
    {
     "name": "stdout",
     "output_type": "stream",
     "text": [
      "Read the 1 zone level (H4/D1)\n",
      "Read the 2 zone level (H4/W1)\n",
      "Read the 3 zone level (H4/M1)\n",
      "{'H4': {'Date': '2024-05-16 21:00:00', 'zcol': 'red'}, 'D1': {'Date': '2024-05-16 21:00:00', 'zcol': 'green'}, 'W1': {'Date': '2024-05-11 21:00:00', 'zcol': 'gray'}, 'M1': {'Date': '2024-04-30 21:00:00', 'zcol': 'gray'}}\n"
     ]
    }
   ],
   "source": [
    "\n",
    "res=svc.zone_read_up(i,t,3)\n",
    "print(res)"
   ]
  },
  {
   "cell_type": "code",
   "execution_count": 18,
   "metadata": {},
   "outputs": [
    {
     "name": "stdout",
     "output_type": "stream",
     "text": [
      "Read the 1 zone level (H4/D1)\n",
      "Read the 2 zone level (H4/W1)\n",
      "Read the 3 zone level (H4/M1)\n",
      "{\"H4\": {\"Date\": \"2024-05-16 21:00:00\", \"zcol\": \"red\"}, \"D1\": {\"Date\": \"2024-05-16 21:00:00\", \"zcol\": \"green\"}, \"W1\": {\"Date\": \"2024-05-11 21:00:00\", \"zcol\": \"gray\"}, \"M1\": {\"Date\": \"2024-04-30 21:00:00\", \"zcol\": \"gray\"}}\n"
     ]
    }
   ],
   "source": [
    "\n",
    "\n",
    "res_json=svc.zone_read_up(i,t,3,to_json=True)\n",
    "print(res_json)\n"
   ]
  },
  {
   "cell_type": "code",
   "execution_count": null,
   "metadata": {},
   "outputs": [],
   "source": []
  },
  {
   "cell_type": "code",
   "execution_count": 19,
   "metadata": {},
   "outputs": [
    {
     "data": {
      "text/plain": [
       "dict_keys(['H4', 'D1', 'W1', 'M1'])"
      ]
     },
     "execution_count": 19,
     "metadata": {},
     "output_type": "execute_result"
    }
   ],
   "source": [
    "res.keys()"
   ]
  },
  {
   "cell_type": "code",
   "execution_count": 20,
   "metadata": {},
   "outputs": [
    {
     "name": "stdout",
     "output_type": "stream",
     "text": [
      "-------H4----------\n",
      "{'Date': '2024-05-16 21:00:00', 'zcol': 'red'}\n",
      "-------D1----------\n",
      "{'Date': '2024-05-16 21:00:00', 'zcol': 'green'}\n",
      "-------W1----------\n",
      "{'Date': '2024-05-11 21:00:00', 'zcol': 'gray'}\n",
      "-------M1----------\n",
      "{'Date': '2024-04-30 21:00:00', 'zcol': 'gray'}\n"
     ]
    }
   ],
   "source": [
    "for k in res.keys():\n",
    "  print(f\"-------{k}----------\")\n",
    "  \n",
    "  item=res[k]\n",
    "  print(item)\n",
    "  \n",
    "  #print(\"Date:\",item[\"Date\"])\n",
    "  #print(\"Zone:\",item[\"zone\"])"
   ]
  },
  {
   "cell_type": "markdown",
   "metadata": {},
   "source": []
  },
  {
   "cell_type": "code",
   "execution_count": 21,
   "metadata": {},
   "outputs": [],
   "source": [
    "import pandas as pd\n",
    "\n"
   ]
  },
  {
   "cell_type": "markdown",
   "metadata": {},
   "source": [
    "----"
   ]
  },
  {
   "cell_type": "markdown",
   "metadata": {},
   "source": [
    "\n",
    "\n",
    "\n",
    "### PROBABLY DISREGARD THIS\n"
   ]
  },
  {
   "cell_type": "code",
   "execution_count": 22,
   "metadata": {},
   "outputs": [],
   "source": [
    "\n",
    "# OUTPUTS Files\n",
    "result_drop_base=\"/b/Dropbox/jgt/drop\" #$jgtdroot\n",
    "# result_source_dataset_archive= result_drop_base + \"/data/arch/jgtml_240516\"\n",
    "result_source_dataset_archive= os.path.join(result_drop_base, \"data\", \"arch\", \"jgtml_240516\")\n",
    "# result_file_base=result_drop_base+\"/jgtml_observe_dataset__240515_valid_BIG_alligator_SELL.result\"\n",
    "result_file_basename = \"jgtml_observe_dataset__240515_valid_BIG_alligator_SELL.result\"\n",
    "result_file_base = os.path.join(result_drop_base, result_file_basename)\n",
    "result_file_md=result_file_base + \".md\"\n",
    "result_file_csv=result_file_base + \".csv\"\n",
    "\n",
    "os.makedirs(result_source_dataset_archive,exist_ok=True)\n",
    "\n",
    "\n",
    "\n"
   ]
  },
  {
   "cell_type": "code",
   "execution_count": 23,
   "metadata": {},
   "outputs": [
    {
     "ename": "NameError",
     "evalue": "name 'hdf1' is not defined",
     "output_type": "error",
     "traceback": [
      "\u001b[0;31m---------------------------------------------------------------------------\u001b[0m",
      "\u001b[0;31mNameError\u001b[0m                                 Traceback (most recent call last)",
      "Cell \u001b[0;32mIn[23], line 1\u001b[0m\n\u001b[0;32m----> 1\u001b[0m \u001b[43mhdf1\u001b[49m\u001b[38;5;241m.\u001b[39mcolumns\n",
      "\u001b[0;31mNameError\u001b[0m: name 'hdf1' is not defined"
     ]
    }
   ],
   "source": [
    "hdf1.columns"
   ]
  },
  {
   "cell_type": "code",
   "execution_count": null,
   "metadata": {},
   "outputs": [
    {
     "data": {
      "text/plain": [
       "'red'"
      ]
     },
     "execution_count": 14,
     "metadata": {},
     "output_type": "execute_result"
    }
   ],
   "source": [
    "hdf1[\"zcol\"].tail(1).values[0]"
   ]
  },
  {
   "cell_type": "code",
   "execution_count": null,
   "metadata": {},
   "outputs": [],
   "source": []
  },
  {
   "cell_type": "markdown",
   "metadata": {},
   "source": [
    "\n",
    "\n",
    "### --@STCIssue Does our latest signal Valid ??\n",
    "\n"
   ]
  },
  {
   "cell_type": "markdown",
   "metadata": {},
   "source": []
  }
 ],
 "metadata": {
  "language_info": {
   "name": "python"
  }
 },
 "nbformat": 4,
 "nbformat_minor": 2
}

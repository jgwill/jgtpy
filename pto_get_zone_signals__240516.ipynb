{
 "cells": [
  {
   "cell_type": "code",
   "execution_count": 1,
   "metadata": {},
   "outputs": [],
   "source": [
    "\n",
    "from jgtpy import jgtapyhelper as th\n",
    "from jgtpy import JGTCDS as cds\n",
    "from jgtpy import JGTCDSSvc as svc\n",
    "\n",
    "\n"
   ]
  },
  {
   "cell_type": "markdown",
   "metadata": {},
   "source": [
    "\n",
    "### --@STCGoal What is the Zone of the Higher TF ??\n",
    "\n"
   ]
  },
  {
   "cell_type": "code",
   "execution_count": 2,
   "metadata": {},
   "outputs": [],
   "source": [
    "i=\"SPX500\"\n",
    "t=\"H4\";htf_expected=\"D1\";htf2_expected=\"W1\";htf3_expected=\"M1\"\n"
   ]
  },
  {
   "cell_type": "code",
   "execution_count": 3,
   "metadata": {},
   "outputs": [],
   "source": [
    "\n",
    "from jgtutils.jgtpov import get_higher_tf\n",
    "\n",
    "\n",
    "#@STCGoal Upgraded jgtutils.jgtpov import get_higher_tf\n",
    "def _get_higher_tf(timeframe,default_timeframes=\"M1,W1,D1,H8,H4,H1,m15,m5\"):\n",
    "  #return None if timeframe is M1\n",
    "  if timeframe == \"M1\":\n",
    "    return None    \n",
    "  # Default timeframes\n",
    "  timeframes = default_timeframes.split(',')\n",
    "  \n",
    "  # Override non default \n",
    "  if timeframe == \"H6\" and \"H6\" not in timeframes:\n",
    "    return \"D1\"\n",
    "  if timeframe == \"H3\" and \"H3\" not in timeframes:\n",
    "    return \"H8\"\n",
    "  if timeframe == \"H2\" and \"H2\" not in timeframes:\n",
    "    return \"H4\"\n",
    "  if timeframe == \"m30\" and \"m30\" not in timeframes:\n",
    "    return \"H1\"\n",
    "  \n",
    "  # Get the index of the supplied timeframe\n",
    "  try:\n",
    "    tf_index = timeframes.index(timeframe)\n",
    "  except ValueError:\n",
    "    return None\n",
    "  \n",
    "  # Get the higher timeframe\n",
    "  higher_tf = timeframes[tf_index - 1] if tf_index > 0 else None\n",
    "  \n",
    "  return higher_tf\n",
    "\n",
    "\n",
    "\n",
    "def get_higher_tf2(_tf, _level=0,timeframes = \"M1,W1,D1,H4,H1,m15,m5\"):\n",
    "  \"\"\"\n",
    "  Recursively calculates the higher time frame based on the given time frame and level.\n",
    "\n",
    "  Parameters:\n",
    "  _tf (str): The current time frame.\n",
    "  _level (int): The number of levels to go higher in time frames. Default is 0.\n",
    "  timeframes (str): The list of time frames to consider. Default is \"M1,W1,D1,H4,H1,m15,m5\".\n",
    "\n",
    "  Returns:\n",
    "  str: The higher time frame based on the given time frame and level.\n",
    "  \"\"\"\n",
    "  htf = _get_higher_tf(_tf,timeframes)\n",
    "  if _level > 0:\n",
    "    htf = get_higher_tf2(htf, _level - 1,timeframes)\n",
    "  return htf\n",
    "\n",
    "# def get_higher_tf2(_tf,_level=0):\n",
    "#   htf=get_higher_tf(_tf)\n",
    "#   if _level>0:\n",
    "#     htf=get_higher_tf2(htf,_level-1)\n",
    "#   return htf\n"
   ]
  },
  {
   "cell_type": "markdown",
   "metadata": {},
   "source": [
    "### --@STCIssue Does our latest signal Valid ??\n",
    "\n"
   ]
  },
  {
   "cell_type": "code",
   "execution_count": 4,
   "metadata": {},
   "outputs": [],
   "source": [
    "\n",
    "# Explore the CDS Signals and their validity\n",
    "\n"
   ]
  },
  {
   "cell_type": "markdown",
   "metadata": {},
   "source": []
  },
  {
   "cell_type": "markdown",
   "metadata": {},
   "source": [
    "\n"
   ]
  },
  {
   "cell_type": "code",
   "execution_count": null,
   "metadata": {},
   "outputs": [],
   "source": [
    "\n",
    "\n",
    "\n"
   ]
  },
  {
   "cell_type": "code",
   "execution_count": 5,
   "metadata": {},
   "outputs": [
    {
     "name": "stdout",
     "output_type": "stream",
     "text": [
      "D1  expected: D1\n",
      "W1  expected: W1\n",
      "M1  expected: M1\n",
      "None  expected: None\n"
     ]
    }
   ],
   "source": [
    "# Test getting 2 levels higher time frame\n",
    "htf1=get_higher_tf2(t,0)\n",
    "print(htf1,\" expected:\",htf_expected)\n",
    "\n",
    "htf2=get_higher_tf2(t,1)\n",
    "print(htf2,\" expected:\",htf2_expected)\n",
    "\n",
    "htf3=get_higher_tf2(t,2)\n",
    "print(htf3,\" expected:\",htf3_expected)\n",
    "\n",
    "\n",
    "htf4=get_higher_tf2(t,3)\n",
    "print(htf4,\" expected: None\")"
   ]
  },
  {
   "cell_type": "code",
   "execution_count": 6,
   "metadata": {},
   "outputs": [
    {
     "name": "stdout",
     "output_type": "stream",
     "text": [
      "CDS create is being called\n",
      "Higher TF:  D1  of :  H4\n",
      "CDS create is being called\n",
      "Higher TF:  W1  of :  H4\n",
      "CDS create is being called\n",
      "Higher TF:  M1  of :  H4\n",
      "CDS create is being called\n"
     ]
    }
   ],
   "source": [
    "\n",
    "def pto_get_higher_cdf(_tf,_level=0,timeframes = \"M1,W1,D1,H4,H1,m15,m5\"):  \n",
    "  if _level==-1:\n",
    "    return svc.get(i,_tf),_tf # Current\n",
    "  else:\n",
    "    htf=get_higher_tf2(_tf,_level,timeframes)\n",
    "    print(\"Higher TF: \",htf,\" of : \",_tf)\n",
    "\n",
    "    hdf=svc.get(i,htf)\n",
    "    \n",
    "    return hdf,htf\n",
    "\n",
    "def get_zone_from_cdf(_cdf):\n",
    "  return _cdf[\"zcol\"].tail(1).values[0]\n",
    "\n",
    "\n",
    "cdf,ctf=pto_get_higher_cdf(t,-1)\n",
    "hdf1,htf1=pto_get_higher_cdf(t,0)\n",
    "hdf2,htf2=pto_get_higher_cdf(t,1)\n",
    "hdf3,htf3=pto_get_higher_cdf(t,2)\n",
    "\n",
    "z=get_zone_from_cdf(cdf) #current\n",
    "z1=get_zone_from_cdf(hdf1) #D1\n",
    "z2=get_zone_from_cdf(hdf2) #W1\n",
    "z3=get_zone_from_cdf(hdf3) #M1\n"
   ]
  },
  {
   "cell_type": "code",
   "execution_count": 7,
   "metadata": {},
   "outputs": [
    {
     "name": "stdout",
     "output_type": "stream",
     "text": [
      "Zone  H4  : red\n",
      "Zone  D1  : gray\n",
      "Zone  W1  : gray\n",
      "Zone  M1  : gray\n"
     ]
    }
   ],
   "source": [
    "\n",
    "def print_zone(_cdf,_tf):\n",
    "  _z=get_zone_from_cdf(_cdf)\n",
    "  print(\"Zone \",_tf,\" :\",_z)\n",
    "\n",
    "print_zone(cdf,t)\n",
    "print_zone(hdf1,htf1)\n",
    "print_zone(hdf2,htf2)\n",
    "print_zone(hdf3,htf3)\n",
    "# print(\"Zone C: \",z)\n",
    "# print(\"Zone 1: \",z1)\n",
    "# print(\"Zone 2: \",z2)\n",
    "# print(\"Zone 3: \",z3)"
   ]
  },
  {
   "cell_type": "code",
   "execution_count": 8,
   "metadata": {},
   "outputs": [
    {
     "data": {
      "text/plain": [
       "Index(['Volume', 'Open', 'High', 'Low', 'Close', 'Median', 'ao', 'ac', 'jaw',\n",
       "       'teeth', 'lips', 'fh', 'fl', 'fh3', 'fl3', 'fh5', 'fl5', 'fh8', 'fl8',\n",
       "       'fh13', 'fl13', 'fh21', 'fl21', 'fh34', 'fl34', 'fh55', 'fl55', 'fh89',\n",
       "       'fl89', 'fdbb', 'fdbs', 'fdb', 'aoaz', 'aobz', 'zlc', 'zlcb', 'zlcs',\n",
       "       'zcol', 'sz', 'bz', 'acs', 'acb', 'ss', 'sb', 'price_peak_above',\n",
       "       'price_peak_bellow', 'ao_peak_above', 'ao_peak_bellow'],\n",
       "      dtype='object')"
      ]
     },
     "execution_count": 8,
     "metadata": {},
     "output_type": "execute_result"
    }
   ],
   "source": [
    "hdf1.columns"
   ]
  },
  {
   "cell_type": "code",
   "execution_count": 9,
   "metadata": {},
   "outputs": [
    {
     "data": {
      "text/plain": [
       "'gray'"
      ]
     },
     "execution_count": 9,
     "metadata": {},
     "output_type": "execute_result"
    }
   ],
   "source": [
    "hdf1[\"zcol\"].tail(1).values[0]"
   ]
  },
  {
   "cell_type": "code",
   "execution_count": null,
   "metadata": {},
   "outputs": [],
   "source": []
  }
 ],
 "metadata": {
  "language_info": {
   "name": "python"
  }
 },
 "nbformat": 4,
 "nbformat_minor": 2
}

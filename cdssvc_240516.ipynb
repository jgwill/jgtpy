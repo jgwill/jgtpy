{
 "cells": [
  {
   "cell_type": "code",
   "execution_count": 2,
   "metadata": {},
   "outputs": [],
   "source": [
    "\n",
    "from jgtpy import JGTCDSSvc as svc\n",
    "\n"
   ]
  },
  {
   "cell_type": "markdown",
   "metadata": {},
   "source": [
    "## --@STCGoal Adequate Exposed Function\n",
    "\n",
    "* svc.get\n",
    "* svc.zone___????\n",
    "* --@STCIssue Do we generate them automatically when CDS are updated ???\n",
    "\n"
   ]
  },
  {
   "cell_type": "code",
   "execution_count": null,
   "metadata": {},
   "outputs": [],
   "source": []
  },
  {
   "cell_type": "markdown",
   "metadata": {},
   "source": [
    "### --@STCGoal Intended to Validate and enhance the JGTCDSSvc"
   ]
  },
  {
   "cell_type": "markdown",
   "metadata": {},
   "source": [
    "\n",
    "\n",
    "#### Do our Date are Valid ?  YES"
   ]
  },
  {
   "cell_type": "code",
   "execution_count": 23,
   "metadata": {},
   "outputs": [
    {
     "name": "stdout",
     "output_type": "stream",
     "text": [
      "                     Volume    Open     High      Low     Close   Median  \\\n",
      "Date                                                                       \n",
      "2024-05-16 22:55:00     209  1.3614  1.36181  1.36137  1.361805  1.36159   \n",
      "\n",
      "                          ao        ac       jaw     teeth  ...   sz   bz  \\\n",
      "Date                                                        ...             \n",
      "2024-05-16 22:55:00 -0.01026  0.033115  1.361556  1.361506  ...  0.0  0.0   \n",
      "\n",
      "                     acs  acb   ss   sb  price_peak_above  price_peak_bellow  \\\n",
      "Date                                                                           \n",
      "2024-05-16 22:55:00  1.0  0.0  0.0  0.0                 0                  0   \n",
      "\n",
      "                     ao_peak_above  ao_peak_bellow  \n",
      "Date                                                \n",
      "2024-05-16 22:55:00              0               0  \n",
      "\n",
      "[1 rows x 48 columns]\n"
     ]
    }
   ],
   "source": [
    "\n",
    "# Do the use fresh works\n",
    "i=\"USD/CAD\";t=\"m5\"\n",
    "cdf = svc.get(i,t,use_fresh=True)\n",
    "print(cdf.tail(1))\n"
   ]
  },
  {
   "cell_type": "code",
   "execution_count": 24,
   "metadata": {},
   "outputs": [
    {
     "name": "stdout",
     "output_type": "stream",
     "text": [
      "DatetimeIndex(['2024-05-16 22:55:00'], dtype='datetime64[ns]', name='Date', freq=None)\n",
      "2024-05-16 22:59\n"
     ]
    }
   ],
   "source": [
    "\n",
    "last_row = cdf.tail(1)\n",
    "print(last_row.index)\n",
    "import datetime\n",
    "dt_fmt = '%Y-%m-%d %H:%M'\n",
    "\n",
    "dt_now_utc = datetime.datetime.now(tz=datetime.timezone.utc)\n",
    "formatted_dt = dt_now_utc.strftime(dt_fmt)\n",
    "print(formatted_dt)\n"
   ]
  },
  {
   "cell_type": "code",
   "execution_count": null,
   "metadata": {},
   "outputs": [],
   "source": []
  }
 ],
 "metadata": {
  "language_info": {
   "name": "python"
  }
 },
 "nbformat": 4,
 "nbformat_minor": 2
}

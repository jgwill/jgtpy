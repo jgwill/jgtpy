{
 "cells": [
  {
   "cell_type": "code",
   "execution_count": 1,
   "metadata": {},
   "outputs": [
    {
     "ename": "ModuleNotFoundError",
     "evalue": "No module named 'jgtpy'",
     "output_type": "error",
     "traceback": [
      "\u001b[1;31m---------------------------------------------------------------------------\u001b[0m",
      "\u001b[1;31mModuleNotFoundError\u001b[0m                       Traceback (most recent call last)",
      "\u001b[1;32mc:\\Users\\jeang\\Dropbox\\w\\o\\pys\\jgtpy\\JGTPDS.test.ipynb Cell 1\u001b[0m in \u001b[0;36m<cell line: 1>\u001b[1;34m()\u001b[0m\n\u001b[1;32m----> <a href='vscode-notebook-cell:/c%3A/Users/jeang/Dropbox/w/o/pys/jgtpy/JGTPDS.test.ipynb#W0sZmlsZQ%3D%3D?line=0'>1</a>\u001b[0m \u001b[39mimport\u001b[39;00m \u001b[39mJGTPDS\u001b[39;00m \u001b[39mas\u001b[39;00m \u001b[39mpds\u001b[39;00m\n",
      "File \u001b[1;32mc:\\Users\\jeang\\Dropbox\\w\\o\\pys\\jgtpy\\JGTPDS.py:3\u001b[0m, in \u001b[0;36m<module>\u001b[1;34m\u001b[0m\n\u001b[0;32m      1\u001b[0m \u001b[39mimport\u001b[39;00m \u001b[39mdatetime\u001b[39;00m \u001b[39mas\u001b[39;00m \u001b[39mdt\u001b[39;00m\n\u001b[0;32m      2\u001b[0m \u001b[39mimport\u001b[39;00m \u001b[39mpandas\u001b[39;00m \u001b[39mas\u001b[39;00m \u001b[39mpd\u001b[39;00m\n\u001b[1;32m----> 3\u001b[0m \u001b[39mimport\u001b[39;00m \u001b[39mjgtpy\u001b[39;00m\u001b[39m.\u001b[39;00m\u001b[39mJGTPDHelper\u001b[39;00m \u001b[39mas\u001b[39;00m \u001b[39mjpd\u001b[39;00m\n\u001b[0;32m      5\u001b[0m \u001b[39mimport\u001b[39;00m \u001b[39mjgtpy\u001b[39;00m\u001b[39m.\u001b[39;00m\u001b[39mJGTFXCMWrapper\u001b[39;00m \u001b[39mas\u001b[39;00m \u001b[39mjfx\u001b[39;00m\n\u001b[0;32m      6\u001b[0m \u001b[39mimport\u001b[39;00m \u001b[39mjgtpy\u001b[39;00m\u001b[39m.\u001b[39;00m\u001b[39mJGTConfig\u001b[39;00m \u001b[39mas\u001b[39;00m \u001b[39mjgtcnf\u001b[39;00m\n",
      "\u001b[1;31mModuleNotFoundError\u001b[0m: No module named 'jgtpy'"
     ]
    }
   ],
   "source": [
    "import JGTPDS as pds"
   ]
  },
  {
   "cell_type": "code",
   "execution_count": 2,
   "metadata": {},
   "outputs": [],
   "source": [
    "pds.renameColumns=True\n",
    "pds.stayConnected=True\n",
    "pds.cleanseOriginalColumns=True\n",
    "df=pds.getPH('USD/CAD','D1')"
   ]
  },
  {
   "cell_type": "code",
   "execution_count": 3,
   "metadata": {},
   "outputs": [
    {
     "name": "stdout",
     "output_type": "stream",
     "text": [
      "                     Volume      Open      High       Low     Close    Median\n",
      "Date                                                                         \n",
      "20.1.46-27 21:00:00       8  1.230380  1.229785  1.229485  1.229500  1.229635\n",
      "20.1.46-28 21:00:00  119338  1.229500  1.234790  1.228785  1.233675  1.231787\n",
      "20.1.46-29 21:00:00  114746  1.233675  1.240315  1.233055  1.240170  1.236685\n",
      "20.1.46-30 21:00:00  137531  1.240170  1.242385  1.235565  1.239790  1.238975\n",
      "20.1.47-01 21:00:00  115845  1.239790  1.244575  1.236470  1.243555  1.240523\n",
      "...                     ...       ...       ...       ...       ...       ...\n",
      "2022-11-17 22:00:00  303475  1.332765  1.340140  1.330495  1.332855  1.335317\n",
      "2022-11-18 22:00:00  261349  1.332900  1.340935  1.330035  1.338610  1.335485\n",
      "2022-11-20 22:00:00      66  1.338955  1.339275  1.338650  1.338945  1.338963\n",
      "2022-11-21 22:00:00  265063  1.337945  1.349525  1.337415  1.345210  1.343470\n",
      "2022-11-22 22:00:00   32807  1.345150  1.345985  1.342050  1.342900  1.344018\n",
      "\n",
      "[424 rows x 6 columns]\n"
     ]
    }
   ],
   "source": [
    "print(df)"
   ]
  },
  {
   "cell_type": "code",
   "execution_count": 4,
   "metadata": {},
   "outputs": [],
   "source": [
    "#pds.disconnect()"
   ]
  },
  {
   "cell_type": "code",
   "execution_count": 5,
   "metadata": {},
   "outputs": [],
   "source": [
    "def getPresentBarAsList(_df):\n",
    "  _paf =_df.iloc[-1:]\n",
    "  _pa = _paf.to_dict(orient='list')\n",
    "  _dtctx=str(_paf.index.values[0])\n",
    "  _pa['Date'] = _dtctx\n",
    "  return _pa\n",
    "\n",
    "def getLastCompletedBarAsList(_df):\n",
    "  _paf =_df.iloc[-2:-1]\n",
    "  _pa = _paf.to_dict(orient='list')\n",
    "  _dtctx=str(_paf.index.values[0])\n",
    "  _pa['Date'] = _dtctx\n",
    "  return _pa\n"
   ]
  },
  {
   "cell_type": "code",
   "execution_count": 6,
   "metadata": {},
   "outputs": [
    {
     "data": {
      "text/html": [
       "<div>\n",
       "<style scoped>\n",
       "    .dataframe tbody tr th:only-of-type {\n",
       "        vertical-align: middle;\n",
       "    }\n",
       "\n",
       "    .dataframe tbody tr th {\n",
       "        vertical-align: top;\n",
       "    }\n",
       "\n",
       "    .dataframe thead th {\n",
       "        text-align: right;\n",
       "    }\n",
       "</style>\n",
       "<table border=\"1\" class=\"dataframe\">\n",
       "  <thead>\n",
       "    <tr style=\"text-align: right;\">\n",
       "      <th></th>\n",
       "      <th>Volume</th>\n",
       "      <th>Open</th>\n",
       "      <th>High</th>\n",
       "      <th>Low</th>\n",
       "      <th>Close</th>\n",
       "      <th>Median</th>\n",
       "    </tr>\n",
       "    <tr>\n",
       "      <th>Date</th>\n",
       "      <th></th>\n",
       "      <th></th>\n",
       "      <th></th>\n",
       "      <th></th>\n",
       "      <th></th>\n",
       "      <th></th>\n",
       "    </tr>\n",
       "  </thead>\n",
       "  <tbody>\n",
       "    <tr>\n",
       "      <th>2022-11-21 22:00:00</th>\n",
       "      <td>265063</td>\n",
       "      <td>1.337945</td>\n",
       "      <td>1.349525</td>\n",
       "      <td>1.337415</td>\n",
       "      <td>1.34521</td>\n",
       "      <td>1.343470</td>\n",
       "    </tr>\n",
       "    <tr>\n",
       "      <th>2022-11-22 22:00:00</th>\n",
       "      <td>32807</td>\n",
       "      <td>1.345150</td>\n",
       "      <td>1.345985</td>\n",
       "      <td>1.342050</td>\n",
       "      <td>1.34290</td>\n",
       "      <td>1.344018</td>\n",
       "    </tr>\n",
       "  </tbody>\n",
       "</table>\n",
       "</div>"
      ],
      "text/plain": [
       "                     Volume      Open      High       Low    Close    Median\n",
       "Date                                                                        \n",
       "2022-11-21 22:00:00  265063  1.337945  1.349525  1.337415  1.34521  1.343470\n",
       "2022-11-22 22:00:00   32807  1.345150  1.345985  1.342050  1.34290  1.344018"
      ]
     },
     "execution_count": 6,
     "metadata": {},
     "output_type": "execute_result"
    }
   ],
   "source": [
    "df.tail(2)"
   ]
  },
  {
   "cell_type": "code",
   "execution_count": 7,
   "metadata": {},
   "outputs": [
    {
     "data": {
      "text/plain": [
       "[1.3429]"
      ]
     },
     "execution_count": 7,
     "metadata": {},
     "output_type": "execute_result"
    }
   ],
   "source": [
    "\n",
    "getPresentBarAsList(df)['Close']\n",
    "\n"
   ]
  },
  {
   "cell_type": "code",
   "execution_count": 8,
   "metadata": {},
   "outputs": [
    {
     "data": {
      "text/plain": [
       "[1.34521]"
      ]
     },
     "execution_count": 8,
     "metadata": {},
     "output_type": "execute_result"
    }
   ],
   "source": [
    "\n",
    "getLastCompletedBarAsList(df)['Close']"
   ]
  }
 ],
 "metadata": {
  "kernelspec": {
   "display_name": "Python 3.9.13 ('OMLE39')",
   "language": "python",
   "name": "python3"
  },
  "language_info": {
   "codemirror_mode": {
    "name": "ipython",
    "version": 3
   },
   "file_extension": ".py",
   "mimetype": "text/x-python",
   "name": "python",
   "nbconvert_exporter": "python",
   "pygments_lexer": "ipython3",
   "version": "3.9.13"
  },
  "orig_nbformat": 4,
  "vscode": {
   "interpreter": {
    "hash": "01e30c61c613fb2e855b4b5ae679058dc11e0ff50c16d6ca29d2e4894e63fd3b"
   }
  }
 },
 "nbformat": 4,
 "nbformat_minor": 2
}

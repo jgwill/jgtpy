{
 "cells": [
  {
   "cell_type": "code",
   "execution_count": 1,
   "metadata": {},
   "outputs": [],
   "source": [
    "\n",
    "from jgtpy import JGTIDS as ids,JGTPDSP as pds"
   ]
  },
  {
   "cell_type": "code",
   "execution_count": 2,
   "metadata": {},
   "outputs": [],
   "source": [
    "from jgtpy.JGTChartConfig import JGTChartConfig\n",
    "#from jgtpy.JGTIDS import cds_add_signals_to_indicators, ids_add_indicators, jgti_add_zlc_plus_other_AO_signal, pds_cleanse_original_columns, ids_cleanse_ao_peak_secondary_columns, __format_boolean_columns_to_int, pto_add_ao_price_peaks\n",
    "\n",
    "\n",
    "def __format_boolean_columns_to_int(dfsrc, quiet=True):\n",
    "  for col in dfsrc.columns:\n",
    "    if dfsrc[col].dtype == bool:\n",
    "      dfsrc[col] = dfsrc[col].astype(int)\n",
    "  return dfsrc\n",
    "  \n",
    "\n"
   ]
  },
  {
   "cell_type": "code",
   "execution_count": null,
   "metadata": {},
   "outputs": [],
   "source": []
  },
  {
   "cell_type": "code",
   "execution_count": 3,
   "metadata": {},
   "outputs": [],
   "source": [
    "dfsrc = pds.getPH(\"SPX500\",\"H4\")\n",
    "cc=JGTChartConfig()\n"
   ]
  },
  {
   "cell_type": "code",
   "execution_count": 5,
   "metadata": {},
   "outputs": [
    {
     "name": "stdout",
     "output_type": "stream",
     "text": [
      "Adding indicators...\n",
      "Skipping degree larger big Alligator\n",
      "done adding indicators :)\n",
      "----added shofted range AO\n",
      "AC Sell Signal with AC Bellow Zero Line 2024-01-22 10:00:00\n",
      "AC Sell Signal with AC Bellow Zero Line 2024-01-22 14:00:00\n",
      "AC Buy Signal with AC ABove Zero Line 2024-01-23 18:00:00\n",
      "AC Buy Signal with AC ABove Zero Line 2024-01-25 18:00:00\n",
      "AC Buy Signal with AC ABove Zero Line 2024-01-25 22:00:00\n",
      "AC Buy Signal with AC ABove Zero Line 2024-01-26 02:00:00\n",
      "AC Buy Signal with AC ABove Zero Line 2024-01-29 02:00:00\n",
      "AC Sell Signal with AC Bellow Zero Line 2024-01-30 14:00:00\n",
      "AC Buy Signal with AC ABove Zero Line 2024-02-01 14:00:00\n",
      "AC Sell Signal with AC Bellow Zero Line 2024-02-02 14:00:00\n",
      "AC Sell Signal with AC Bellow Zero Line 2024-02-02 18:00:00\n",
      "AC Sell Signal with AC Bellow Zero Line 2024-02-04 22:00:00\n",
      "AC Sell Signal with AC Bellow Zero Line 2024-02-05 02:00:00\n",
      "AC Buy Signal with AC ABove Zero Line 2024-02-06 06:00:00\n",
      "AC Buy Signal with AC ABove Zero Line 2024-02-09 06:00:00\n",
      "AC Sell Signal with AC Bellow Zero Line 2024-02-12 14:00:00\n",
      "AC Buy Signal with AC ABove Zero Line 2024-02-14 06:00:00\n",
      "AC Sell Signal with AC Bellow Zero Line 2024-02-15 06:00:00\n",
      "AC Sell Signal with AC Bellow Zero Line 2024-02-15 18:00:00\n",
      "AC Sell Signal with AC Bellow Zero Line 2024-02-16 06:00:00\n",
      "AC Sell Signal with AC Bellow Zero Line 2024-02-16 10:00:00\n",
      "AC Buy Signal with AC ABove Zero Line 2024-02-19 14:00:00\n",
      "AC Buy Signal with AC ABove Zero Line 2024-02-21 02:00:00\n",
      "AC Buy Signal with AC ABove Zero Line 2024-02-21 06:00:00\n",
      "AC Buy Signal with AC ABove Zero Line 2024-02-21 10:00:00\n",
      "AC Buy Signal with AC ABove Zero Line 2024-02-21 14:00:00\n",
      "AC Buy Signal with AC ABove Zero Line 2024-02-21 18:00:00\n",
      "AC Sell Signal with AC Bellow Zero Line 2024-02-22 22:00:00\n",
      "AC Sell Signal with AC Bellow Zero Line 2024-02-23 02:00:00\n",
      "AC Sell Signal with AC Bellow Zero Line 2024-02-23 06:00:00\n",
      "AC Sell Signal with AC Bellow Zero Line 2024-02-23 10:00:00\n",
      "AC Sell Signal with AC Bellow Zero Line 2024-02-23 14:00:00\n",
      "AC Buy Signal with AC ABove Zero Line 2024-02-27 14:00:00\n",
      "AC Buy Signal with AC ABove Zero Line 2024-02-27 18:00:00\n",
      "AC Buy Signal with AC ABove Zero Line 2024-02-27 22:00:00\n",
      "AC Buy Signal with AC ABove Zero Line 2024-02-28 02:00:00\n",
      "AC Buy Signal with AC ABove Zero Line 2024-02-29 06:00:00\n",
      "AC Buy Signal with AC ABove Zero Line 2024-02-29 10:00:00\n",
      "AC Sell Signal with AC Bellow Zero Line 2024-03-01 14:00:00\n",
      "AC Buy Signal with AC ABove Zero Line 2024-03-06 06:00:00\n",
      "AC Sell Signal with AC Bellow Zero Line 2024-03-08 10:00:00\n",
      "AC Buy Signal with AC ABove Zero Line 2024-03-11 17:00:00\n",
      "AC Buy Signal with AC ABove Zero Line 2024-03-14 09:00:00\n",
      "AC Sell Signal with AC Bellow Zero Line 2024-03-19 01:00:00\n",
      "AC Sell Signal with AC Bellow Zero Line 2024-03-20 13:00:00\n",
      "AC Buy Signal with AC ABove Zero Line 2024-03-25 01:00:00\n",
      "AC Buy Signal with AC ABove Zero Line 2024-03-25 21:00:00\n",
      "AC Buy Signal with AC ABove Zero Line 2024-03-26 01:00:00\n",
      "AC Buy Signal with AC ABove Zero Line 2024-03-26 05:00:00\n",
      "AC Buy Signal with AC ABove Zero Line 2024-03-27 13:00:00\n",
      "AC Sell Signal with AC Bellow Zero Line 2024-03-28 17:00:00\n",
      "AC Sell Signal with AC Bellow Zero Line 2024-04-08 13:00:00\n",
      "AC Sell Signal with AC Bellow Zero Line 2024-04-08 17:00:00\n",
      "AC Sell Signal with AC Bellow Zero Line 2024-04-08 21:00:00\n",
      "AC Sell Signal with AC Bellow Zero Line 2024-04-09 09:00:00\n",
      "AC Buy Signal with AC ABove Zero Line 2024-04-16 13:00:00\n",
      "AC Sell Signal with AC Bellow Zero Line 2024-04-17 17:00:00\n",
      "AC Sell Signal with AC Bellow Zero Line 2024-04-22 09:00:00\n",
      "AC Sell Signal with AC Bellow Zero Line 2024-04-23 09:00:00\n",
      "AC Sell Signal with AC Bellow Zero Line 2024-04-23 13:00:00\n",
      "AC Sell Signal with AC Bellow Zero Line 2024-04-24 13:00:00\n"
     ]
    }
   ],
   "source": [
    "from jgtpy.JGTIDS import tocds\n",
    "i=tocds(dfsrc,quiet=False)"
   ]
  },
  {
   "cell_type": "code",
   "execution_count": null,
   "metadata": {},
   "outputs": [],
   "source": []
  }
 ],
 "metadata": {
  "kernelspec": {
   "display_name": "jgtpy310",
   "language": "python",
   "name": "python3"
  },
  "language_info": {
   "codemirror_mode": {
    "name": "ipython",
    "version": 3
   },
   "file_extension": ".py",
   "mimetype": "text/x-python",
   "name": "python",
   "nbconvert_exporter": "python",
   "pygments_lexer": "ipython3",
   "version": "3.10.14"
  }
 },
 "nbformat": 4,
 "nbformat_minor": 2
}

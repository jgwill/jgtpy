{
 "cells": [
  {
   "cell_type": "code",
   "execution_count": null,
   "metadata": {},
   "outputs": [],
   "source": []
  },
  {
   "cell_type": "markdown",
   "metadata": {},
   "source": [
    "* set a context TF (D1,H4)\n",
    "* Refresh all CDS from context to higher tf\n",
    "* get a list of higher columns to merge\n"
   ]
  },
  {
   "cell_type": "markdown",
   "metadata": {},
   "source": []
  },
  {
   "cell_type": "code",
   "execution_count": 9,
   "metadata": {},
   "outputs": [],
   "source": [
    "from jgtpy import JGTCDSSvc as svc"
   ]
  },
  {
   "cell_type": "code",
   "execution_count": 10,
   "metadata": {},
   "outputs": [],
   "source": [
    "i=\"EUR/USD\"\n",
    "i=\"SPX500\"\n",
    "t=\"H4\"\n",
    "t=\"D1\""
   ]
  },
  {
   "cell_type": "code",
   "execution_count": 11,
   "metadata": {},
   "outputs": [],
   "source": [
    "from jgtutils import jgtpov as jpov"
   ]
  },
  {
   "cell_type": "code",
   "execution_count": 12,
   "metadata": {},
   "outputs": [],
   "source": [
    "povs=jpov.get_higher_tf_array(t)"
   ]
  },
  {
   "cell_type": "code",
   "execution_count": 13,
   "metadata": {},
   "outputs": [],
   "source": [
    "use_fresh=False"
   ]
  },
  {
   "cell_type": "code",
   "execution_count": 14,
   "metadata": {},
   "outputs": [],
   "source": [
    "use_full = True\n",
    "quotescount=333\n",
    "if use_full:\n",
    "  quotescount=-1\n",
    "\n"
   ]
  },
  {
   "cell_type": "code",
   "execution_count": 15,
   "metadata": {},
   "outputs": [
    {
     "name": "stdout",
     "output_type": "stream",
     "text": [
      "D1\n",
      "W1\n",
      "M1\n"
     ]
    }
   ],
   "source": [
    "\n",
    "\n",
    "for pov in povs:\n",
    "  print(pov)"
   ]
  },
  {
   "cell_type": "code",
   "execution_count": 16,
   "metadata": {
    "tags": [
     "PTO"
    ]
   },
   "outputs": [
    {
     "name": "stdout",
     "output_type": "stream",
     "text": [
      "CDSSvc Read: CDSSvc Read: CDSSvc Read:    D1M1W1    of :  of :  of :    D1D1D1    for:   for:  for: SPX500   use_full:SPX500   True use_full:\n",
      "SPX500  True use_full:\n",
      " True\n",
      "-------------------------------------\n",
      "0.2963709831237793\n",
      "-------------------------------------\n"
     ]
    }
   ],
   "source": [
    "#count the time this process takes\n",
    "import time\n",
    "force_read = True\n",
    "start = time.time()\n",
    "cdf_datasets=svc.get_higher_cdf_datasets(i,t,use_full=use_full,use_fresh=use_fresh,quotescount=quotescount,quiet=True,force_read=force_read)\n",
    "#print how long it took\n",
    "print(\"-------------------------------------\")\n",
    "print(time.time() - start)\n",
    "print(\"-------------------------------------\")"
   ]
  },
  {
   "cell_type": "markdown",
   "metadata": {},
   "source": [
    "### B4 - ThreadPoolExecutor\n",
    "\n",
    "* count:333, 4 timeframes = 22s\n",
    "* count:FUL, 4 timeframes = 98s\n",
    "* count:FUL, 4 timeframes = 80s  (With TP, not so much faster...), max_worker=default\n",
    "* count:FUL, 4 timeframes = __s  (With TP, not so much faster...), max_worker=10\n"
   ]
  },
  {
   "cell_type": "code",
   "execution_count": 17,
   "metadata": {},
   "outputs": [
    {
     "name": "stdout",
     "output_type": "stream",
     "text": [
      "M1\n",
      "W1\n",
      "D1\n"
     ]
    }
   ],
   "source": [
    "for k in cdf_datasets:\n",
    "  \n",
    "  #print(cdf)\n",
    "  print(k)\n",
    "  v=cdf_datasets[k]\n",
    "  #print(v.columns)\n",
    "  #print(v.tail(1))\n",
    "  #print(\"\")"
   ]
  },
  {
   "cell_type": "code",
   "execution_count": 18,
   "metadata": {},
   "outputs": [],
   "source": [
    "from jgtutils.jgtconstants import (MFI_VAL,ZCOL,AO)\n",
    "columns_to_get_from_higher_tf = [MFI_VAL,ZCOL,AO]\n"
   ]
  },
  {
   "cell_type": "code",
   "execution_count": 19,
   "metadata": {},
   "outputs": [
    {
     "data": {
      "text/html": [
       "<div>\n",
       "<style scoped>\n",
       "    .dataframe tbody tr th:only-of-type {\n",
       "        vertical-align: middle;\n",
       "    }\n",
       "\n",
       "    .dataframe tbody tr th {\n",
       "        vertical-align: top;\n",
       "    }\n",
       "\n",
       "    .dataframe thead th {\n",
       "        text-align: right;\n",
       "    }\n",
       "</style>\n",
       "<table border=\"1\" class=\"dataframe\">\n",
       "  <thead>\n",
       "    <tr style=\"text-align: right;\">\n",
       "      <th></th>\n",
       "      <th>BidOpen</th>\n",
       "      <th>BidHigh</th>\n",
       "      <th>BidLow</th>\n",
       "      <th>BidClose</th>\n",
       "      <th>AskOpen</th>\n",
       "      <th>AskHigh</th>\n",
       "      <th>AskLow</th>\n",
       "      <th>AskClose</th>\n",
       "      <th>Volume</th>\n",
       "      <th>Open</th>\n",
       "      <th>...</th>\n",
       "      <th>price_peak_above</th>\n",
       "      <th>price_peak_bellow</th>\n",
       "      <th>ao_peak_above</th>\n",
       "      <th>ao_peak_bellow</th>\n",
       "      <th>mfi_sq</th>\n",
       "      <th>mfi_green</th>\n",
       "      <th>mfi_fade</th>\n",
       "      <th>mfi_fake</th>\n",
       "      <th>mfi_sig</th>\n",
       "      <th>mfi_str</th>\n",
       "    </tr>\n",
       "    <tr>\n",
       "      <th>Date</th>\n",
       "      <th></th>\n",
       "      <th></th>\n",
       "      <th></th>\n",
       "      <th></th>\n",
       "      <th></th>\n",
       "      <th></th>\n",
       "      <th></th>\n",
       "      <th></th>\n",
       "      <th></th>\n",
       "      <th></th>\n",
       "      <th></th>\n",
       "      <th></th>\n",
       "      <th></th>\n",
       "      <th></th>\n",
       "      <th></th>\n",
       "      <th></th>\n",
       "      <th></th>\n",
       "      <th></th>\n",
       "      <th></th>\n",
       "      <th></th>\n",
       "      <th></th>\n",
       "    </tr>\n",
       "  </thead>\n",
       "  <tbody>\n",
       "    <tr>\n",
       "      <th>2024-06-16 21:00:00</th>\n",
       "      <td>5429.92</td>\n",
       "      <td>5490.11</td>\n",
       "      <td>5421.07</td>\n",
       "      <td>5475.90</td>\n",
       "      <td>5430.32</td>\n",
       "      <td>5490.61</td>\n",
       "      <td>5421.60</td>\n",
       "      <td>5476.30</td>\n",
       "      <td>115164</td>\n",
       "      <td>5430.12</td>\n",
       "      <td>...</td>\n",
       "      <td>0</td>\n",
       "      <td>0</td>\n",
       "      <td>0</td>\n",
       "      <td>0</td>\n",
       "      <td>0</td>\n",
       "      <td>0</td>\n",
       "      <td>0</td>\n",
       "      <td>1</td>\n",
       "      <td>3</td>\n",
       "      <td>-+</td>\n",
       "    </tr>\n",
       "    <tr>\n",
       "      <th>2024-06-17 21:00:00</th>\n",
       "      <td>5475.90</td>\n",
       "      <td>5490.90</td>\n",
       "      <td>5470.58</td>\n",
       "      <td>5485.15</td>\n",
       "      <td>5476.30</td>\n",
       "      <td>5491.40</td>\n",
       "      <td>5471.18</td>\n",
       "      <td>5485.65</td>\n",
       "      <td>101284</td>\n",
       "      <td>5476.10</td>\n",
       "      <td>...</td>\n",
       "      <td>0</td>\n",
       "      <td>0</td>\n",
       "      <td>0</td>\n",
       "      <td>0</td>\n",
       "      <td>0</td>\n",
       "      <td>0</td>\n",
       "      <td>1</td>\n",
       "      <td>0</td>\n",
       "      <td>2</td>\n",
       "      <td>--</td>\n",
       "    </tr>\n",
       "  </tbody>\n",
       "</table>\n",
       "<p>2 rows × 69 columns</p>\n",
       "</div>"
      ],
      "text/plain": [
       "                     BidOpen  BidHigh   BidLow  BidClose  AskOpen  AskHigh  \\\n",
       "Date                                                                         \n",
       "2024-06-16 21:00:00  5429.92  5490.11  5421.07   5475.90  5430.32  5490.61   \n",
       "2024-06-17 21:00:00  5475.90  5490.90  5470.58   5485.15  5476.30  5491.40   \n",
       "\n",
       "                      AskLow  AskClose  Volume     Open  ...  \\\n",
       "Date                                                     ...   \n",
       "2024-06-16 21:00:00  5421.60   5476.30  115164  5430.12  ...   \n",
       "2024-06-17 21:00:00  5471.18   5485.65  101284  5476.10  ...   \n",
       "\n",
       "                     price_peak_above  price_peak_bellow  ao_peak_above  \\\n",
       "Date                                                                      \n",
       "2024-06-16 21:00:00                 0                  0              0   \n",
       "2024-06-17 21:00:00                 0                  0              0   \n",
       "\n",
       "                     ao_peak_bellow  mfi_sq  mfi_green  mfi_fade  mfi_fake  \\\n",
       "Date                                                                         \n",
       "2024-06-16 21:00:00               0       0          0         0         1   \n",
       "2024-06-17 21:00:00               0       0          0         1         0   \n",
       "\n",
       "                     mfi_sig  mfi_str  \n",
       "Date                                   \n",
       "2024-06-16 21:00:00        3       -+  \n",
       "2024-06-17 21:00:00        2       --  \n",
       "\n",
       "[2 rows x 69 columns]"
      ]
     },
     "execution_count": 19,
     "metadata": {},
     "output_type": "execute_result"
    }
   ],
   "source": [
    "\n",
    "workset=cdf_datasets.copy()\n",
    "ttf=workset[t]\n",
    "ttf.tail(2)"
   ]
  },
  {
   "cell_type": "code",
   "execution_count": 20,
   "metadata": {},
   "outputs": [
    {
     "name": "stdout",
     "output_type": "stream",
     "text": [
      "['mfi_str', 'mfi_str_M1', 'mfi_str_W1', 'zcol', 'zcol_M1', 'zcol_W1', 'ao', 'ao_M1', 'ao_W1']\n"
     ]
    }
   ],
   "source": [
    "created_columns=[]\n",
    "for c in columns_to_get_from_higher_tf:\n",
    "  for k in workset:\n",
    "    if not c in created_columns: \n",
    "      created_columns.append(c)\n",
    "    new_col_name = c+\"_\"+k\n",
    "    if k != t:\n",
    "      if not new_col_name in created_columns: \n",
    "        created_columns.append(new_col_name)\n",
    "print(created_columns)\n"
   ]
  },
  {
   "cell_type": "code",
   "execution_count": 21,
   "metadata": {},
   "outputs": [],
   "source": [
    "\n",
    "for k in workset:  \n",
    "  if k!=t:\n",
    "    v=workset[k]\n",
    "    for c in columns_to_get_from_higher_tf:\n",
    "     \n",
    "      new_col_name = c+\"_\"+k\n",
    "      ttf[new_col_name]=None\n",
    "\n",
    "      for ii, row in ttf.iterrows():\n",
    "        #get the date of the current row (the index)\n",
    "        date = ii\n",
    "        #print(k)\n",
    "        data = v[v.index <= date]\n",
    "        if not data.empty:\n",
    "          data = data.iloc[-1]\n",
    "          ttf.at[ii,new_col_name]=data[c]\n",
    "        \n",
    "      \n",
    "\n"
   ]
  },
  {
   "cell_type": "code",
   "execution_count": 22,
   "metadata": {},
   "outputs": [
    {
     "name": "stdout",
     "output_type": "stream",
     "text": [
      "['mfi_str', 'mfi_str_M1', 'mfi_str_W1', 'zcol', 'zcol_M1', 'zcol_W1', 'ao', 'ao_M1', 'ao_W1']\n"
     ]
    }
   ],
   "source": [
    "print(created_columns)\n",
    "#order the columns\n",
    "#created_columns.sort()\n",
    "#print(created_columns)\n"
   ]
  },
  {
   "cell_type": "code",
   "execution_count": 28,
   "metadata": {},
   "outputs": [],
   "source": [
    "#Print the ttf\n",
    "#print(ttf.tail(5))\n",
    "\n",
    "columns_we_want_to_keep_to_view=\"Volume,Open,High,Low,Close,ao,ac,jaw,teeth,lips,bjaw,bteeth,blips,tjaw,tteeth,tlips,fh,fl,fdbb,fdbs,fdb,zlc,zcol,mfi_str,M1_mfi_str,W1_mfi_str,M1_zcol,W1_zcol,W1_ao,M1_ao\"\n",
    "columns_we_want_to_keep_to_view=\"zcol,W1_zcol,M1_zcol,mfi_str,W1_mfi_str,M1_mfi_str,ao,W1_ao,M1_ao\"\n",
    "columns_we_want_to_keep_to_view=created_columns\n",
    "\n",
    "#select columns in ttf\n",
    "try:\n",
    "  ttf_sel=ttf[columns_we_want_to_keep_to_view.split(\",\")].copy()\n",
    "except:\n",
    "  ttf_sel=ttf[columns_we_want_to_keep_to_view].copy()\n",
    "  \n",
    "\n",
    "ttf.to_csv(\"ttf.csv\")\n",
    "ttf_sel.to_csv(\"ttf_sel.csv\")"
   ]
  },
  {
   "cell_type": "code",
   "execution_count": 24,
   "metadata": {},
   "outputs": [],
   "source": [
    "# ttf=daily_df\n",
    "# for ii, row in daily_df.iterrows():\n",
    "#   #get the date of the current row (the index)\n",
    "#   date = ii\n",
    "#   #print(date)\n",
    "#   for k in workset:  \n",
    "#     if k!=t:\n",
    "#       for c in columns_to_get_from_higher_tf:\n",
    "#         new_col_name = k+\"_\"+c\n",
    "#         ttf[new_col_name]=None\n",
    "#         #print(k)\n",
    "#         v=workset[k]\n",
    "#         data = v[v.index <= date]\n",
    "#         if not data.empty:\n",
    "#           data = data.iloc[-1]\n",
    "#           ttf.at[ii,new_col_name]=data[c]\n",
    "        \n",
    "      "
   ]
  },
  {
   "cell_type": "code",
   "execution_count": 25,
   "metadata": {},
   "outputs": [
    {
     "data": {
      "text/plain": [
       "Index(['BidOpen', 'BidHigh', 'BidLow', 'BidClose', 'AskOpen', 'AskHigh',\n",
       "       'AskLow', 'AskClose', 'Volume', 'Open', 'High', 'Low', 'Close',\n",
       "       'Median', 'ao', 'ac', 'jaw', 'teeth', 'lips', 'bjaw', 'bteeth', 'blips',\n",
       "       'tjaw', 'tteeth', 'tlips', 'fh', 'fl', 'fh3', 'fl3', 'fh5', 'fl5',\n",
       "       'fh8', 'fl8', 'fh13', 'fl13', 'fh21', 'fl21', 'fh34', 'fl34', 'fh55',\n",
       "       'fl55', 'fh89', 'fl89', 'mfi', 'fdbb', 'fdbs', 'fdb', 'aoaz', 'aobz',\n",
       "       'zlc', 'zlcb', 'zlcs', 'zcol', 'sz', 'bz', 'acs', 'acb', 'ss', 'sb',\n",
       "       'price_peak_above', 'price_peak_bellow', 'ao_peak_above',\n",
       "       'ao_peak_bellow', 'mfi_sq', 'mfi_green', 'mfi_fade', 'mfi_fake',\n",
       "       'mfi_sig', 'mfi_str', 'mfi_str_M1', 'zcol_M1', 'ao_M1', 'mfi_str_W1',\n",
       "       'zcol_W1', 'ao_W1'],\n",
       "      dtype='object')"
      ]
     },
     "execution_count": 25,
     "metadata": {},
     "output_type": "execute_result"
    }
   ],
   "source": [
    "\n",
    "ttf.columns"
   ]
  },
  {
   "cell_type": "code",
   "execution_count": 26,
   "metadata": {},
   "outputs": [
    {
     "data": {
      "text/html": [
       "<div>\n",
       "<style scoped>\n",
       "    .dataframe tbody tr th:only-of-type {\n",
       "        vertical-align: middle;\n",
       "    }\n",
       "\n",
       "    .dataframe tbody tr th {\n",
       "        vertical-align: top;\n",
       "    }\n",
       "\n",
       "    .dataframe thead th {\n",
       "        text-align: right;\n",
       "    }\n",
       "</style>\n",
       "<table border=\"1\" class=\"dataframe\">\n",
       "  <thead>\n",
       "    <tr style=\"text-align: right;\">\n",
       "      <th></th>\n",
       "      <th>BidOpen</th>\n",
       "      <th>BidHigh</th>\n",
       "      <th>BidLow</th>\n",
       "      <th>BidClose</th>\n",
       "      <th>AskOpen</th>\n",
       "      <th>AskHigh</th>\n",
       "      <th>AskLow</th>\n",
       "      <th>AskClose</th>\n",
       "      <th>Volume</th>\n",
       "      <th>Open</th>\n",
       "      <th>...</th>\n",
       "      <th>mfi_fade</th>\n",
       "      <th>mfi_fake</th>\n",
       "      <th>mfi_sig</th>\n",
       "      <th>mfi_str</th>\n",
       "      <th>mfi_str_M1</th>\n",
       "      <th>zcol_M1</th>\n",
       "      <th>ao_M1</th>\n",
       "      <th>mfi_str_W1</th>\n",
       "      <th>zcol_W1</th>\n",
       "      <th>ao_W1</th>\n",
       "    </tr>\n",
       "    <tr>\n",
       "      <th>Date</th>\n",
       "      <th></th>\n",
       "      <th></th>\n",
       "      <th></th>\n",
       "      <th></th>\n",
       "      <th></th>\n",
       "      <th></th>\n",
       "      <th></th>\n",
       "      <th></th>\n",
       "      <th></th>\n",
       "      <th></th>\n",
       "      <th></th>\n",
       "      <th></th>\n",
       "      <th></th>\n",
       "      <th></th>\n",
       "      <th></th>\n",
       "      <th></th>\n",
       "      <th></th>\n",
       "      <th></th>\n",
       "      <th></th>\n",
       "      <th></th>\n",
       "      <th></th>\n",
       "    </tr>\n",
       "  </thead>\n",
       "  <tbody>\n",
       "    <tr>\n",
       "      <th>2024-06-17 21:00:00</th>\n",
       "      <td>5475.9</td>\n",
       "      <td>5490.9</td>\n",
       "      <td>5470.58</td>\n",
       "      <td>5485.15</td>\n",
       "      <td>5476.3</td>\n",
       "      <td>5491.4</td>\n",
       "      <td>5471.18</td>\n",
       "      <td>5485.65</td>\n",
       "      <td>101284</td>\n",
       "      <td>5476.1</td>\n",
       "      <td>...</td>\n",
       "      <td>1</td>\n",
       "      <td>0</td>\n",
       "      <td>2</td>\n",
       "      <td>--</td>\n",
       "      <td>--</td>\n",
       "      <td>gray</td>\n",
       "      <td>0.747239</td>\n",
       "      <td>-+</td>\n",
       "      <td>gray</td>\n",
       "      <td>0.76117</td>\n",
       "    </tr>\n",
       "  </tbody>\n",
       "</table>\n",
       "<p>1 rows × 75 columns</p>\n",
       "</div>"
      ],
      "text/plain": [
       "                     BidOpen  BidHigh   BidLow  BidClose  AskOpen  AskHigh  \\\n",
       "Date                                                                         \n",
       "2024-06-17 21:00:00   5475.9   5490.9  5470.58   5485.15   5476.3   5491.4   \n",
       "\n",
       "                      AskLow  AskClose  Volume    Open  ...  mfi_fade  \\\n",
       "Date                                                    ...             \n",
       "2024-06-17 21:00:00  5471.18   5485.65  101284  5476.1  ...         1   \n",
       "\n",
       "                     mfi_fake  mfi_sig  mfi_str  mfi_str_M1  zcol_M1  \\\n",
       "Date                                                                   \n",
       "2024-06-17 21:00:00         0        2       --          --     gray   \n",
       "\n",
       "                        ao_M1  mfi_str_W1  zcol_W1    ao_W1  \n",
       "Date                                                         \n",
       "2024-06-17 21:00:00  0.747239          -+     gray  0.76117  \n",
       "\n",
       "[1 rows x 75 columns]"
      ]
     },
     "execution_count": 26,
     "metadata": {},
     "output_type": "execute_result"
    }
   ],
   "source": [
    "ttf.tail(1)"
   ]
  },
  {
   "cell_type": "markdown",
   "metadata": {},
   "source": [
    "* Iterations takes 1 min"
   ]
  },
  {
   "cell_type": "markdown",
   "metadata": {},
   "source": [
    "## Above we are getting the columns from higher TF"
   ]
  },
  {
   "cell_type": "code",
   "execution_count": 27,
   "metadata": {},
   "outputs": [],
   "source": [
    "    \n",
    "\n",
    "# for k in workset:  \n",
    "#   if k!=t:\n",
    "#     print(k)\n",
    "#     v=workset[k]\n",
    "#     for c in columns_to_get_from_higher_tf:\n",
    "#       new_col_name = k+\"_\"+c\n",
    "#       print(\"Adding column for \"+c+ \" from tf:\"+k + \" as :\"+new_col_name)\n",
    "#       daily_df[new_col_name]=None\n",
    "#       for ii, row in daily_df.iterrows():\n",
    "#         date = ii\n",
    "#         #print(date)\n",
    "#         # Find the latest monthly data before or on the current date\n",
    "#         v_data = v[v['Date'] <= date].iloc[-1]\n",
    "#         daily_df.at[i, new_col_name] = v_data[c]\n",
    "        \n",
    "      \n",
    "  \n",
    "  "
   ]
  },
  {
   "cell_type": "code",
   "execution_count": null,
   "metadata": {},
   "outputs": [],
   "source": []
  }
 ],
 "metadata": {
  "kernelspec": {
   "display_name": "jgtml",
   "language": "python",
   "name": "python3"
  },
  "language_info": {
   "codemirror_mode": {
    "name": "ipython",
    "version": 3
   },
   "file_extension": ".py",
   "mimetype": "text/x-python",
   "name": "python",
   "nbconvert_exporter": "python",
   "pygments_lexer": "ipython3",
   "version": "3.10.14"
  }
 },
 "nbformat": 4,
 "nbformat_minor": 2
}

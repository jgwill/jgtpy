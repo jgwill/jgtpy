{
 "cells": [
  {
   "cell_type": "code",
   "execution_count": null,
   "metadata": {},
   "outputs": [],
   "source": []
  },
  {
   "cell_type": "markdown",
   "metadata": {},
   "source": [
    "* set a context TF (D1,H4)\n",
    "* Refresh all CDS from context to higher tf\n",
    "* get a list of higher columns to merge\n"
   ]
  },
  {
   "cell_type": "markdown",
   "metadata": {},
   "source": []
  },
  {
   "cell_type": "code",
   "execution_count": 39,
   "metadata": {},
   "outputs": [],
   "source": [
    "from jgtpy import JGTCDSSvc as svc"
   ]
  },
  {
   "cell_type": "code",
   "execution_count": 40,
   "metadata": {},
   "outputs": [],
   "source": [
    "i=\"SPX500\"\n",
    "i=\"EUR/USD\"\n",
    "t=\"D1\"\n",
    "t=\"H4\""
   ]
  },
  {
   "cell_type": "code",
   "execution_count": 41,
   "metadata": {},
   "outputs": [],
   "source": [
    "from jgtutils import jgtpov as jpov"
   ]
  },
  {
   "cell_type": "code",
   "execution_count": 42,
   "metadata": {},
   "outputs": [],
   "source": [
    "povs=jpov.get_higher_tf_array(t)"
   ]
  },
  {
   "cell_type": "code",
   "execution_count": 43,
   "metadata": {},
   "outputs": [],
   "source": [
    "use_fresh=True"
   ]
  },
  {
   "cell_type": "code",
   "execution_count": 44,
   "metadata": {},
   "outputs": [],
   "source": [
    "use_full = False\n",
    "quotescount=333\n",
    "if use_full:\n",
    "  quotescount=-1\n",
    "\n"
   ]
  },
  {
   "cell_type": "code",
   "execution_count": 45,
   "metadata": {},
   "outputs": [
    {
     "name": "stdout",
     "output_type": "stream",
     "text": [
      "H4\n",
      "D1\n",
      "W1\n",
      "M1\n"
     ]
    }
   ],
   "source": [
    "\n",
    "\n",
    "for pov in povs:\n",
    "  print(pov)"
   ]
  },
  {
   "cell_type": "code",
   "execution_count": 46,
   "metadata": {},
   "outputs": [
    {
     "name": "stdout",
     "output_type": "stream",
     "text": [
      "CDSSvc Get:  H4  of :  H4\n",
      "CDSSvc Get:  D1  of :  H4\n",
      "CDSSvc Get:  W1  of :  H4\n",
      "CDSSvc Get:  M1  of :  H4\n"
     ]
    }
   ],
   "source": [
    "\n",
    "cdf_datasets=svc.get_higher_cdf_datasets(i,t,use_full=use_full,use_fresh=use_fresh,quotescount=quotescount,quiet=True)"
   ]
  },
  {
   "cell_type": "code",
   "execution_count": 47,
   "metadata": {},
   "outputs": [
    {
     "name": "stdout",
     "output_type": "stream",
     "text": [
      "H4\n",
      "D1\n",
      "W1\n",
      "M1\n"
     ]
    }
   ],
   "source": [
    "for k in cdf_datasets:\n",
    "  \n",
    "  #print(cdf)\n",
    "  print(k)\n",
    "  v=cdf_datasets[k]\n",
    "  #print(v.columns)\n",
    "  #print(v.tail(1))\n",
    "  #print(\"\")"
   ]
  },
  {
   "cell_type": "code",
   "execution_count": 48,
   "metadata": {},
   "outputs": [],
   "source": [
    "from jgtutils.jgtconstants import (MFI_VAL,ZCOL,AO)\n",
    "columns_to_get_from_higher_tf = [MFI_VAL,ZCOL,AO]\n"
   ]
  },
  {
   "cell_type": "code",
   "execution_count": 49,
   "metadata": {},
   "outputs": [
    {
     "data": {
      "text/html": [
       "<div>\n",
       "<style scoped>\n",
       "    .dataframe tbody tr th:only-of-type {\n",
       "        vertical-align: middle;\n",
       "    }\n",
       "\n",
       "    .dataframe tbody tr th {\n",
       "        vertical-align: top;\n",
       "    }\n",
       "\n",
       "    .dataframe thead th {\n",
       "        text-align: right;\n",
       "    }\n",
       "</style>\n",
       "<table border=\"1\" class=\"dataframe\">\n",
       "  <thead>\n",
       "    <tr style=\"text-align: right;\">\n",
       "      <th></th>\n",
       "      <th>BidOpen</th>\n",
       "      <th>BidHigh</th>\n",
       "      <th>BidLow</th>\n",
       "      <th>BidClose</th>\n",
       "      <th>AskOpen</th>\n",
       "      <th>AskHigh</th>\n",
       "      <th>AskLow</th>\n",
       "      <th>AskClose</th>\n",
       "      <th>Volume</th>\n",
       "      <th>Open</th>\n",
       "      <th>...</th>\n",
       "      <th>price_peak_above</th>\n",
       "      <th>price_peak_bellow</th>\n",
       "      <th>ao_peak_above</th>\n",
       "      <th>ao_peak_bellow</th>\n",
       "      <th>mfi_sq</th>\n",
       "      <th>mfi_green</th>\n",
       "      <th>mfi_fade</th>\n",
       "      <th>mfi_fake</th>\n",
       "      <th>mfi_sig</th>\n",
       "      <th>mfi_str</th>\n",
       "    </tr>\n",
       "    <tr>\n",
       "      <th>Date</th>\n",
       "      <th></th>\n",
       "      <th></th>\n",
       "      <th></th>\n",
       "      <th></th>\n",
       "      <th></th>\n",
       "      <th></th>\n",
       "      <th></th>\n",
       "      <th></th>\n",
       "      <th></th>\n",
       "      <th></th>\n",
       "      <th></th>\n",
       "      <th></th>\n",
       "      <th></th>\n",
       "      <th></th>\n",
       "      <th></th>\n",
       "      <th></th>\n",
       "      <th></th>\n",
       "      <th></th>\n",
       "      <th></th>\n",
       "      <th></th>\n",
       "      <th></th>\n",
       "    </tr>\n",
       "  </thead>\n",
       "  <tbody>\n",
       "    <tr>\n",
       "      <th>2024-06-18 09:00:00</th>\n",
       "      <td>1.07193</td>\n",
       "      <td>1.07341</td>\n",
       "      <td>1.07099</td>\n",
       "      <td>1.07310</td>\n",
       "      <td>1.07197</td>\n",
       "      <td>1.07346</td>\n",
       "      <td>1.07101</td>\n",
       "      <td>1.07312</td>\n",
       "      <td>41090</td>\n",
       "      <td>1.07195</td>\n",
       "      <td>...</td>\n",
       "      <td>0</td>\n",
       "      <td>0</td>\n",
       "      <td>0</td>\n",
       "      <td>0</td>\n",
       "      <td>1</td>\n",
       "      <td>0</td>\n",
       "      <td>0</td>\n",
       "      <td>0</td>\n",
       "      <td>4</td>\n",
       "      <td>+-</td>\n",
       "    </tr>\n",
       "    <tr>\n",
       "      <th>2024-06-18 13:00:00</th>\n",
       "      <td>1.07310</td>\n",
       "      <td>1.07334</td>\n",
       "      <td>1.07300</td>\n",
       "      <td>1.07301</td>\n",
       "      <td>1.07312</td>\n",
       "      <td>1.07336</td>\n",
       "      <td>1.07301</td>\n",
       "      <td>1.07302</td>\n",
       "      <td>674</td>\n",
       "      <td>1.07311</td>\n",
       "      <td>...</td>\n",
       "      <td>0</td>\n",
       "      <td>0</td>\n",
       "      <td>0</td>\n",
       "      <td>0</td>\n",
       "      <td>0</td>\n",
       "      <td>0</td>\n",
       "      <td>0</td>\n",
       "      <td>1</td>\n",
       "      <td>3</td>\n",
       "      <td>-+</td>\n",
       "    </tr>\n",
       "  </tbody>\n",
       "</table>\n",
       "<p>2 rows × 69 columns</p>\n",
       "</div>"
      ],
      "text/plain": [
       "                     BidOpen  BidHigh   BidLow  BidClose  AskOpen  AskHigh  \\\n",
       "Date                                                                         \n",
       "2024-06-18 09:00:00  1.07193  1.07341  1.07099   1.07310  1.07197  1.07346   \n",
       "2024-06-18 13:00:00  1.07310  1.07334  1.07300   1.07301  1.07312  1.07336   \n",
       "\n",
       "                      AskLow  AskClose  Volume     Open  ...  \\\n",
       "Date                                                     ...   \n",
       "2024-06-18 09:00:00  1.07101   1.07312   41090  1.07195  ...   \n",
       "2024-06-18 13:00:00  1.07301   1.07302     674  1.07311  ...   \n",
       "\n",
       "                     price_peak_above  price_peak_bellow  ao_peak_above  \\\n",
       "Date                                                                      \n",
       "2024-06-18 09:00:00                 0                  0              0   \n",
       "2024-06-18 13:00:00                 0                  0              0   \n",
       "\n",
       "                     ao_peak_bellow  mfi_sq  mfi_green  mfi_fade  mfi_fake  \\\n",
       "Date                                                                         \n",
       "2024-06-18 09:00:00               0       1          0         0         0   \n",
       "2024-06-18 13:00:00               0       0          0         0         1   \n",
       "\n",
       "                     mfi_sig  mfi_str  \n",
       "Date                                   \n",
       "2024-06-18 09:00:00        4       +-  \n",
       "2024-06-18 13:00:00        3       -+  \n",
       "\n",
       "[2 rows x 69 columns]"
      ]
     },
     "execution_count": 49,
     "metadata": {},
     "output_type": "execute_result"
    }
   ],
   "source": [
    "\n",
    "workset=cdf_datasets.copy()\n",
    "ttf=workset[t]\n",
    "ttf.tail(2)"
   ]
  },
  {
   "cell_type": "code",
   "execution_count": 50,
   "metadata": {},
   "outputs": [
    {
     "name": "stdout",
     "output_type": "stream",
     "text": [
      "['mfi_str', 'mfi_str_D1', 'mfi_str_W1', 'mfi_str_M1', 'zcol', 'zcol_D1', 'zcol_W1', 'zcol_M1', 'ao', 'ao_D1', 'ao_W1', 'ao_M1']\n"
     ]
    }
   ],
   "source": [
    "created_columns=[]\n",
    "for c in columns_to_get_from_higher_tf:\n",
    "  for k in workset:\n",
    "    if not c in created_columns: \n",
    "      created_columns.append(c)\n",
    "    new_col_name = c+\"_\"+k\n",
    "    if k != t:\n",
    "      if not new_col_name in created_columns: \n",
    "        created_columns.append(new_col_name)\n",
    "print(created_columns)\n"
   ]
  },
  {
   "cell_type": "code",
   "execution_count": 51,
   "metadata": {},
   "outputs": [],
   "source": [
    "\n",
    "for k in workset:  \n",
    "  if k!=t:\n",
    "    v=workset[k]\n",
    "    for c in columns_to_get_from_higher_tf:\n",
    "     \n",
    "      new_col_name = c+\"_\"+k\n",
    "      ttf[new_col_name]=None\n",
    "\n",
    "      for ii, row in ttf.iterrows():\n",
    "        #get the date of the current row (the index)\n",
    "        date = ii\n",
    "        #print(k)\n",
    "        data = v[v.index <= date]\n",
    "        if not data.empty:\n",
    "          data = data.iloc[-1]\n",
    "          ttf.at[ii,new_col_name]=data[c]\n",
    "        \n",
    "      \n",
    "\n"
   ]
  },
  {
   "cell_type": "code",
   "execution_count": 52,
   "metadata": {},
   "outputs": [
    {
     "name": "stdout",
     "output_type": "stream",
     "text": [
      "['mfi_str', 'mfi_str_D1', 'mfi_str_W1', 'mfi_str_M1', 'zcol', 'zcol_D1', 'zcol_W1', 'zcol_M1', 'ao', 'ao_D1', 'ao_W1', 'ao_M1']\n"
     ]
    }
   ],
   "source": [
    "print(created_columns)\n",
    "#order the columns\n",
    "#created_columns.sort()\n",
    "#print(created_columns)\n"
   ]
  },
  {
   "cell_type": "code",
   "execution_count": 53,
   "metadata": {},
   "outputs": [],
   "source": [
    "#Print the ttf\n",
    "#print(ttf.tail(5))\n",
    "\n",
    "columns_we_want_to_keep_to_view=\"Volume,Open,High,Low,Close,ao,ac,jaw,teeth,lips,bjaw,bteeth,blips,tjaw,tteeth,tlips,fh,fl,fdbb,fdbs,fdb,zlc,zcol,mfi_str,M1_mfi_str,W1_mfi_str,M1_zcol,W1_zcol,W1_ao,M1_ao\"\n",
    "columns_we_want_to_keep_to_view=\"zcol,W1_zcol,M1_zcol,mfi_str,W1_mfi_str,M1_mfi_str,ao,W1_ao,M1_ao\"\n",
    "columns_we_want_to_keep_to_view=created_columns\n",
    "\n",
    "#select columns in ttf\n",
    "try:\n",
    "  ttf_sel=ttf[columns_we_want_to_keep_to_view.split(\",\")].copy()\n",
    "except:\n",
    "  ttf_sel=ttf[columns_we_want_to_keep_to_view].copy()\n",
    "  \n",
    "\n",
    "ttf_sel.to_csv(\"ttf_sel.csv\")"
   ]
  },
  {
   "cell_type": "code",
   "execution_count": 54,
   "metadata": {},
   "outputs": [],
   "source": [
    "# ttf=daily_df\n",
    "# for ii, row in daily_df.iterrows():\n",
    "#   #get the date of the current row (the index)\n",
    "#   date = ii\n",
    "#   #print(date)\n",
    "#   for k in workset:  \n",
    "#     if k!=t:\n",
    "#       for c in columns_to_get_from_higher_tf:\n",
    "#         new_col_name = k+\"_\"+c\n",
    "#         ttf[new_col_name]=None\n",
    "#         #print(k)\n",
    "#         v=workset[k]\n",
    "#         data = v[v.index <= date]\n",
    "#         if not data.empty:\n",
    "#           data = data.iloc[-1]\n",
    "#           ttf.at[ii,new_col_name]=data[c]\n",
    "        \n",
    "      "
   ]
  },
  {
   "cell_type": "code",
   "execution_count": 55,
   "metadata": {},
   "outputs": [
    {
     "data": {
      "text/plain": [
       "Index(['BidOpen', 'BidHigh', 'BidLow', 'BidClose', 'AskOpen', 'AskHigh',\n",
       "       'AskLow', 'AskClose', 'Volume', 'Open', 'High', 'Low', 'Close',\n",
       "       'Median', 'ao', 'ac', 'jaw', 'teeth', 'lips', 'bjaw', 'bteeth', 'blips',\n",
       "       'tjaw', 'tteeth', 'tlips', 'fh', 'fl', 'fh3', 'fl3', 'fh5', 'fl5',\n",
       "       'fh8', 'fl8', 'fh13', 'fl13', 'fh21', 'fl21', 'fh34', 'fl34', 'fh55',\n",
       "       'fl55', 'fh89', 'fl89', 'mfi', 'fdbb', 'fdbs', 'fdb', 'aoaz', 'aobz',\n",
       "       'zlc', 'zlcb', 'zlcs', 'zcol', 'sz', 'bz', 'acs', 'acb', 'ss', 'sb',\n",
       "       'price_peak_above', 'price_peak_bellow', 'ao_peak_above',\n",
       "       'ao_peak_bellow', 'mfi_sq', 'mfi_green', 'mfi_fade', 'mfi_fake',\n",
       "       'mfi_sig', 'mfi_str', 'mfi_str_D1', 'zcol_D1', 'ao_D1', 'mfi_str_W1',\n",
       "       'zcol_W1', 'ao_W1', 'mfi_str_M1', 'zcol_M1', 'ao_M1'],\n",
       "      dtype='object')"
      ]
     },
     "execution_count": 55,
     "metadata": {},
     "output_type": "execute_result"
    }
   ],
   "source": [
    "\n",
    "ttf.columns"
   ]
  },
  {
   "cell_type": "code",
   "execution_count": 56,
   "metadata": {},
   "outputs": [
    {
     "data": {
      "text/html": [
       "<div>\n",
       "<style scoped>\n",
       "    .dataframe tbody tr th:only-of-type {\n",
       "        vertical-align: middle;\n",
       "    }\n",
       "\n",
       "    .dataframe tbody tr th {\n",
       "        vertical-align: top;\n",
       "    }\n",
       "\n",
       "    .dataframe thead th {\n",
       "        text-align: right;\n",
       "    }\n",
       "</style>\n",
       "<table border=\"1\" class=\"dataframe\">\n",
       "  <thead>\n",
       "    <tr style=\"text-align: right;\">\n",
       "      <th></th>\n",
       "      <th>BidOpen</th>\n",
       "      <th>BidHigh</th>\n",
       "      <th>BidLow</th>\n",
       "      <th>BidClose</th>\n",
       "      <th>AskOpen</th>\n",
       "      <th>AskHigh</th>\n",
       "      <th>AskLow</th>\n",
       "      <th>AskClose</th>\n",
       "      <th>Volume</th>\n",
       "      <th>Open</th>\n",
       "      <th>...</th>\n",
       "      <th>mfi_str</th>\n",
       "      <th>mfi_str_D1</th>\n",
       "      <th>zcol_D1</th>\n",
       "      <th>ao_D1</th>\n",
       "      <th>mfi_str_W1</th>\n",
       "      <th>zcol_W1</th>\n",
       "      <th>ao_W1</th>\n",
       "      <th>mfi_str_M1</th>\n",
       "      <th>zcol_M1</th>\n",
       "      <th>ao_M1</th>\n",
       "    </tr>\n",
       "    <tr>\n",
       "      <th>Date</th>\n",
       "      <th></th>\n",
       "      <th></th>\n",
       "      <th></th>\n",
       "      <th></th>\n",
       "      <th></th>\n",
       "      <th></th>\n",
       "      <th></th>\n",
       "      <th></th>\n",
       "      <th></th>\n",
       "      <th></th>\n",
       "      <th></th>\n",
       "      <th></th>\n",
       "      <th></th>\n",
       "      <th></th>\n",
       "      <th></th>\n",
       "      <th></th>\n",
       "      <th></th>\n",
       "      <th></th>\n",
       "      <th></th>\n",
       "      <th></th>\n",
       "      <th></th>\n",
       "    </tr>\n",
       "  </thead>\n",
       "  <tbody>\n",
       "    <tr>\n",
       "      <th>2024-06-18 13:00:00</th>\n",
       "      <td>1.0731</td>\n",
       "      <td>1.07334</td>\n",
       "      <td>1.073</td>\n",
       "      <td>1.07301</td>\n",
       "      <td>1.07312</td>\n",
       "      <td>1.07336</td>\n",
       "      <td>1.07301</td>\n",
       "      <td>1.07302</td>\n",
       "      <td>674</td>\n",
       "      <td>1.07311</td>\n",
       "      <td>...</td>\n",
       "      <td>-+</td>\n",
       "      <td>-+</td>\n",
       "      <td>gray</td>\n",
       "      <td>-0.338136</td>\n",
       "      <td>-+</td>\n",
       "      <td>red</td>\n",
       "      <td>-0.035929</td>\n",
       "      <td>-+</td>\n",
       "      <td>gray</td>\n",
       "      <td>0.000463</td>\n",
       "    </tr>\n",
       "  </tbody>\n",
       "</table>\n",
       "<p>1 rows × 78 columns</p>\n",
       "</div>"
      ],
      "text/plain": [
       "                     BidOpen  BidHigh  BidLow  BidClose  AskOpen  AskHigh  \\\n",
       "Date                                                                        \n",
       "2024-06-18 13:00:00   1.0731  1.07334   1.073   1.07301  1.07312  1.07336   \n",
       "\n",
       "                      AskLow  AskClose  Volume     Open  ...  mfi_str  \\\n",
       "Date                                                     ...            \n",
       "2024-06-18 13:00:00  1.07301   1.07302     674  1.07311  ...       -+   \n",
       "\n",
       "                     mfi_str_D1  zcol_D1     ao_D1  mfi_str_W1  zcol_W1  \\\n",
       "Date                                                                      \n",
       "2024-06-18 13:00:00          -+     gray -0.338136          -+      red   \n",
       "\n",
       "                        ao_W1  mfi_str_M1  zcol_M1     ao_M1  \n",
       "Date                                                          \n",
       "2024-06-18 13:00:00 -0.035929          -+     gray  0.000463  \n",
       "\n",
       "[1 rows x 78 columns]"
      ]
     },
     "execution_count": 56,
     "metadata": {},
     "output_type": "execute_result"
    }
   ],
   "source": [
    "ttf.tail(1)"
   ]
  },
  {
   "cell_type": "markdown",
   "metadata": {},
   "source": [
    "* Iterations takes 1 min"
   ]
  },
  {
   "cell_type": "markdown",
   "metadata": {},
   "source": [
    "## Above we are getting the columns from higher TF"
   ]
  },
  {
   "cell_type": "code",
   "execution_count": 57,
   "metadata": {},
   "outputs": [],
   "source": [
    "    \n",
    "\n",
    "# for k in workset:  \n",
    "#   if k!=t:\n",
    "#     print(k)\n",
    "#     v=workset[k]\n",
    "#     for c in columns_to_get_from_higher_tf:\n",
    "#       new_col_name = k+\"_\"+c\n",
    "#       print(\"Adding column for \"+c+ \" from tf:\"+k + \" as :\"+new_col_name)\n",
    "#       daily_df[new_col_name]=None\n",
    "#       for ii, row in daily_df.iterrows():\n",
    "#         date = ii\n",
    "#         #print(date)\n",
    "#         # Find the latest monthly data before or on the current date\n",
    "#         v_data = v[v['Date'] <= date].iloc[-1]\n",
    "#         daily_df.at[i, new_col_name] = v_data[c]\n",
    "        \n",
    "      \n",
    "  \n",
    "  "
   ]
  },
  {
   "cell_type": "code",
   "execution_count": null,
   "metadata": {},
   "outputs": [],
   "source": []
  }
 ],
 "metadata": {
  "kernelspec": {
   "display_name": "jgtml",
   "language": "python",
   "name": "python3"
  },
  "language_info": {
   "codemirror_mode": {
    "name": "ipython",
    "version": 3
   },
   "file_extension": ".py",
   "mimetype": "text/x-python",
   "name": "python",
   "nbconvert_exporter": "python",
   "pygments_lexer": "ipython3",
   "version": "3.10.14"
  }
 },
 "nbformat": 4,
 "nbformat_minor": 2
}

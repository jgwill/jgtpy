{
 "cells": [
  {
   "cell_type": "code",
   "execution_count": null,
   "metadata": {},
   "outputs": [],
   "source": []
  },
  {
   "cell_type": "markdown",
   "metadata": {},
   "source": [
    "* set a context TF (D1,H4)\n",
    "* Refresh all CDS from context to higher tf\n",
    "* get a list of higher columns to merge\n"
   ]
  },
  {
   "cell_type": "markdown",
   "metadata": {},
   "source": []
  },
  {
   "cell_type": "code",
   "execution_count": 1,
   "metadata": {},
   "outputs": [],
   "source": [
    "from jgtpy import JGTCDSSvc as svc"
   ]
  },
  {
   "cell_type": "code",
   "execution_count": 2,
   "metadata": {},
   "outputs": [],
   "source": [
    "i=\"SPX500\"\n",
    "i=\"EUR/USD\"\n",
    "t=\"D1\"\n",
    "t=\"H4\""
   ]
  },
  {
   "cell_type": "code",
   "execution_count": 3,
   "metadata": {},
   "outputs": [],
   "source": [
    "from jgtutils import jgtpov as jpov"
   ]
  },
  {
   "cell_type": "code",
   "execution_count": 4,
   "metadata": {},
   "outputs": [],
   "source": [
    "povs=jpov.get_higher_tf_array(t)"
   ]
  },
  {
   "cell_type": "code",
   "execution_count": 5,
   "metadata": {},
   "outputs": [],
   "source": [
    "use_fresh=False"
   ]
  },
  {
   "cell_type": "code",
   "execution_count": 6,
   "metadata": {},
   "outputs": [],
   "source": [
    "use_full = True\n",
    "quotescount=333\n",
    "if use_full:\n",
    "  quotescount=-1\n",
    "\n"
   ]
  },
  {
   "cell_type": "code",
   "execution_count": 7,
   "metadata": {},
   "outputs": [
    {
     "name": "stdout",
     "output_type": "stream",
     "text": [
      "H4\n",
      "D1\n",
      "W1\n",
      "M1\n"
     ]
    }
   ],
   "source": [
    "\n",
    "\n",
    "for pov in povs:\n",
    "  print(pov)"
   ]
  },
  {
   "cell_type": "code",
   "execution_count": 8,
   "metadata": {
    "tags": [
     "PTO"
    ]
   },
   "outputs": [
    {
     "name": "stdout",
     "output_type": "stream",
     "text": [
      "CDSSvc Get: CDSSvc Get: CDSSvc Get:  CDSSvc Get:   M1 W1 D1   of :  of :   of :   H4H4H4   H4 for:  for:    of : EUR/USD EUR/USD  for: \n",
      "\n",
      "H4  EUR/USD for: \n",
      " EUR/USD\n",
      "-------------------------------------\n",
      "67.5460913181305\n",
      "-------------------------------------\n"
     ]
    }
   ],
   "source": [
    "#count the time this process takes\n",
    "import time\n",
    "start = time.time()\n",
    "cdf_datasets=svc.get_higher_cdf_datasets(i,t,use_full=use_full,use_fresh=use_fresh,quotescount=quotescount,quiet=True)\n",
    "#print how long it took\n",
    "print(\"-------------------------------------\")\n",
    "print(time.time() - start)\n",
    "print(\"-------------------------------------\")"
   ]
  },
  {
   "cell_type": "markdown",
   "metadata": {},
   "source": [
    "### B4 - ThreadPoolExecutor\n",
    "\n",
    "* count:333, 4 timeframes = 22s\n",
    "* count:FUL, 4 timeframes = 98s\n",
    "* count:FUL, 4 timeframes = 80s  (With TP, not so much faster...), max_worker=default\n",
    "* count:FUL, 4 timeframes = __s  (With TP, not so much faster...), max_worker=10\n"
   ]
  },
  {
   "cell_type": "code",
   "execution_count": null,
   "metadata": {},
   "outputs": [],
   "source": [
    "for k in cdf_datasets:\n",
    "  \n",
    "  #print(cdf)\n",
    "  print(k)\n",
    "  v=cdf_datasets[k]\n",
    "  #print(v.columns)\n",
    "  #print(v.tail(1))\n",
    "  #print(\"\")"
   ]
  },
  {
   "cell_type": "code",
   "execution_count": null,
   "metadata": {},
   "outputs": [],
   "source": [
    "from jgtutils.jgtconstants import (MFI_VAL,ZCOL,AO)\n",
    "columns_to_get_from_higher_tf = [MFI_VAL,ZCOL,AO]\n"
   ]
  },
  {
   "cell_type": "code",
   "execution_count": null,
   "metadata": {},
   "outputs": [],
   "source": [
    "\n",
    "workset=cdf_datasets.copy()\n",
    "ttf=workset[t]\n",
    "ttf.tail(2)"
   ]
  },
  {
   "cell_type": "code",
   "execution_count": null,
   "metadata": {},
   "outputs": [],
   "source": [
    "created_columns=[]\n",
    "for c in columns_to_get_from_higher_tf:\n",
    "  for k in workset:\n",
    "    if not c in created_columns: \n",
    "      created_columns.append(c)\n",
    "    new_col_name = c+\"_\"+k\n",
    "    if k != t:\n",
    "      if not new_col_name in created_columns: \n",
    "        created_columns.append(new_col_name)\n",
    "print(created_columns)\n"
   ]
  },
  {
   "cell_type": "code",
   "execution_count": null,
   "metadata": {},
   "outputs": [],
   "source": [
    "\n",
    "for k in workset:  \n",
    "  if k!=t:\n",
    "    v=workset[k]\n",
    "    for c in columns_to_get_from_higher_tf:\n",
    "     \n",
    "      new_col_name = c+\"_\"+k\n",
    "      ttf[new_col_name]=None\n",
    "\n",
    "      for ii, row in ttf.iterrows():\n",
    "        #get the date of the current row (the index)\n",
    "        date = ii\n",
    "        #print(k)\n",
    "        data = v[v.index <= date]\n",
    "        if not data.empty:\n",
    "          data = data.iloc[-1]\n",
    "          ttf.at[ii,new_col_name]=data[c]\n",
    "        \n",
    "      \n",
    "\n"
   ]
  },
  {
   "cell_type": "code",
   "execution_count": null,
   "metadata": {},
   "outputs": [],
   "source": [
    "print(created_columns)\n",
    "#order the columns\n",
    "#created_columns.sort()\n",
    "#print(created_columns)\n"
   ]
  },
  {
   "cell_type": "code",
   "execution_count": null,
   "metadata": {},
   "outputs": [],
   "source": [
    "#Print the ttf\n",
    "#print(ttf.tail(5))\n",
    "\n",
    "columns_we_want_to_keep_to_view=\"Volume,Open,High,Low,Close,ao,ac,jaw,teeth,lips,bjaw,bteeth,blips,tjaw,tteeth,tlips,fh,fl,fdbb,fdbs,fdb,zlc,zcol,mfi_str,M1_mfi_str,W1_mfi_str,M1_zcol,W1_zcol,W1_ao,M1_ao\"\n",
    "columns_we_want_to_keep_to_view=\"zcol,W1_zcol,M1_zcol,mfi_str,W1_mfi_str,M1_mfi_str,ao,W1_ao,M1_ao\"\n",
    "columns_we_want_to_keep_to_view=created_columns\n",
    "\n",
    "#select columns in ttf\n",
    "try:\n",
    "  ttf_sel=ttf[columns_we_want_to_keep_to_view.split(\",\")].copy()\n",
    "except:\n",
    "  ttf_sel=ttf[columns_we_want_to_keep_to_view].copy()\n",
    "  \n",
    "\n",
    "ttf_sel.to_csv(\"ttf_sel.csv\")"
   ]
  },
  {
   "cell_type": "code",
   "execution_count": null,
   "metadata": {},
   "outputs": [],
   "source": [
    "# ttf=daily_df\n",
    "# for ii, row in daily_df.iterrows():\n",
    "#   #get the date of the current row (the index)\n",
    "#   date = ii\n",
    "#   #print(date)\n",
    "#   for k in workset:  \n",
    "#     if k!=t:\n",
    "#       for c in columns_to_get_from_higher_tf:\n",
    "#         new_col_name = k+\"_\"+c\n",
    "#         ttf[new_col_name]=None\n",
    "#         #print(k)\n",
    "#         v=workset[k]\n",
    "#         data = v[v.index <= date]\n",
    "#         if not data.empty:\n",
    "#           data = data.iloc[-1]\n",
    "#           ttf.at[ii,new_col_name]=data[c]\n",
    "        \n",
    "      "
   ]
  },
  {
   "cell_type": "code",
   "execution_count": null,
   "metadata": {},
   "outputs": [],
   "source": [
    "\n",
    "ttf.columns"
   ]
  },
  {
   "cell_type": "code",
   "execution_count": null,
   "metadata": {},
   "outputs": [],
   "source": [
    "ttf.tail(1)"
   ]
  },
  {
   "cell_type": "markdown",
   "metadata": {},
   "source": [
    "* Iterations takes 1 min"
   ]
  },
  {
   "cell_type": "markdown",
   "metadata": {},
   "source": [
    "## Above we are getting the columns from higher TF"
   ]
  },
  {
   "cell_type": "code",
   "execution_count": null,
   "metadata": {},
   "outputs": [],
   "source": [
    "    \n",
    "\n",
    "# for k in workset:  \n",
    "#   if k!=t:\n",
    "#     print(k)\n",
    "#     v=workset[k]\n",
    "#     for c in columns_to_get_from_higher_tf:\n",
    "#       new_col_name = k+\"_\"+c\n",
    "#       print(\"Adding column for \"+c+ \" from tf:\"+k + \" as :\"+new_col_name)\n",
    "#       daily_df[new_col_name]=None\n",
    "#       for ii, row in daily_df.iterrows():\n",
    "#         date = ii\n",
    "#         #print(date)\n",
    "#         # Find the latest monthly data before or on the current date\n",
    "#         v_data = v[v['Date'] <= date].iloc[-1]\n",
    "#         daily_df.at[i, new_col_name] = v_data[c]\n",
    "        \n",
    "      \n",
    "  \n",
    "  "
   ]
  },
  {
   "cell_type": "code",
   "execution_count": null,
   "metadata": {},
   "outputs": [],
   "source": []
  }
 ],
 "metadata": {
  "kernelspec": {
   "display_name": "jgtml",
   "language": "python",
   "name": "python3"
  },
  "language_info": {
   "codemirror_mode": {
    "name": "ipython",
    "version": 3
   },
   "file_extension": ".py",
   "mimetype": "text/x-python",
   "name": "python",
   "nbconvert_exporter": "python",
   "pygments_lexer": "ipython3",
   "version": "3.10.14"
  }
 },
 "nbformat": 4,
 "nbformat_minor": 2
}
